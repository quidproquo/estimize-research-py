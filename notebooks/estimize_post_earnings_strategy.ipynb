{
 "cells": [
  {
   "cell_type": "markdown",
   "metadata": {},
   "source": [
    "# Estimize Post-Earnings Strategy"
   ]
  },
  {
   "cell_type": "code",
   "execution_count": 2,
   "metadata": {},
   "outputs": [],
   "source": [
    "# Imports\n",
    "\n",
    "from datetime import timedelta\n",
    "from IPython.display import display, HTML, Markdown\n",
    "import logging.config\n",
    "import os\n",
    "import sys\n",
    "\n",
    "from injector import Injector\n",
    "import math\n",
    "import matplotlib.cm as cmx\n",
    "import matplotlib.colors as colors\n",
    "import matplotlib.pyplot as plt\n",
    "import numpy as np\n",
    "import pandas as pd\n",
    "from scipy.stats import mstats\n",
    "\n",
    "module_path = os.path.abspath(os.path.join('..'))\n",
    "\n",
    "if module_path not in sys.path:\n",
    "    sys.path.append(module_path)\n",
    "\n",
    "from estimize.logging import configure_logging\n",
    "from estimize.di.default_module import DefaultModule\n",
    "from estimize.services import (\n",
    "    AssetService, CalendarService, EstimizeSignalService, EstimizeConsensusService, MarketCapService\n",
    ")\n",
    "from estimize.pandas import dfutils\n"
   ]
  },
  {
   "cell_type": "code",
   "execution_count": 3,
   "metadata": {},
   "outputs": [],
   "source": [
    "TIMEZONE = 'US/Eastern'\n",
    "\n",
    "# Asset universe parameters:\n",
    "MIN_MARKET_CAP = 100e6\n",
    "MIN_AVG_DOLLAR_VOL = 1e6\n",
    "MIN_PRICE = 4\n",
    "\n",
    "# Signal parameters:\n",
    "POST_SIGNAL_ONLY = False # If True, only post-earnings signal is used\n",
    "\n",
    "# Trading parameters:\n",
    "SIGNAL_QUANTILE = 0.20 # Upper and lower signal quantile to select assets\n",
    "MIN_ASSETS = 20 # Min number of total long and short assets, below which no trades occur\n",
    "LEVERAGE_RATIO = 2\n",
    "\n",
    "configure_logging('INFO')\n",
    "\n",
    "injector = Injector([DefaultModule])\n",
    "asset_service = injector.get(AssetService)\n",
    "calendar_service = injector.get(CalendarService)\n",
    "consensus_service = injector.get(EstimizeConsensusService)\n",
    "\n",
    "def shift_date_fn(days):\n",
    "    if days > 0:\n",
    "        index = -1\n",
    "    else:\n",
    "        index = 0\n",
    "    \n",
    "    def shift_date(date):\n",
    "        if days != 0:\n",
    "            return calendar_service.get_n_trading_days_from(days, date)[index]\n",
    "        else:\n",
    "            return date\n",
    "    \n",
    "    return shift_date   \n",
    "        \n",
    "def fix_row_index(row):\n",
    "    index = row[0]\n",
    "    cols = row[1]\n",
    "    date = index[0]\n",
    "    asset = index[1]\n",
    "\n",
    "    if cols['bmo']:\n",
    "        date = date - timedelta(days=1)\n",
    "\n",
    "    date = calendar_service.get_valid_trading_end_date(date)\n",
    "\n",
    "    return date, asset\n",
    "\n",
    "def fix_index(df):\n",
    "    df.index = pd.MultiIndex.from_tuples(list(map(fix_row_index, df.iterrows())))\n",
    "    df.index.names = ['as_of_date', 'asset']\n",
    "\n",
    "def get_assets(tickers):\n",
    "    asset_service = injector.get(AssetService)\n",
    "    \n",
    "    return asset_service.get_assets(tickers)\n",
    "\n",
    "def get_unique_assets(df):\n",
    "    return dfutils.unique_assets(df)\n",
    "\n",
    "def universe(start_date, end_date):\n",
    "    asset_service = injector.get(AssetService)\n",
    "    market_cap_service = injector.get(MarketCapService)\n",
    "    \n",
    "    cdf = market_cap_service.get_market_caps(start_date, end_date)\n",
    "    print(len(cdf))\n",
    "    cdf = cdf.loc[cdf['market_cap'] >= MIN_MARKET_CAP]\n",
    "    print(len(cdf))\n",
    "    \n",
    "    df = asset_service.get_universe(start_date, end_date, min_avg_dollar_vol=MIN_AVG_DOLLAR_VOL, min_price=MIN_PRICE)\n",
    "    df = df.join(cdf, how='inner')\n",
    "    df = df[[]]\n",
    "    \n",
    "    return df\n",
    "\n",
    "def returns(start_date, end_date, assets, return_columns=['open_return', 'close_return', 'inter_day_return', 'intra_day_return']):\n",
    "    df = asset_service.get_returns(start_date, end_date, assets)[return_columns]\n",
    "    \n",
    "    return df\n",
    "\n",
    "def eps_deltas(start_date, end_date):\n",
    "    df = consensus_service.get_final_consensuses(start_date, end_date)\n",
    "    fix_index(df)\n",
    "    \n",
    "    df['eps_delta'] = (df['actual.eps'] - df['estimize.eps.weighted']) / (df['estimize.eps.sd'] + 0.01)\n",
    "    df = df[['eps_delta']].copy()\n",
    "    df.dropna(inplace=True)\n",
    "    \n",
    "    return df\n",
    "\n",
    "def longs_and_shorts(eps_deltas_df):\n",
    "    df = eps_deltas_df.reset_index()\n",
    "    \n",
    "    def long_short_fn(values):\n",
    "        top_quantile = values.quantile(1 - SIGNAL_QUANTILE)\n",
    "        bottom_quantile = values.quantile(SIGNAL_QUANTILE)\n",
    "\n",
    "        return ((values >= top_quantile) * 1 + (values <= bottom_quantile) * -1)\n",
    "    \n",
    "    df['long_short'] = df.groupby('as_of_date')['eps_delta'].transform(long_short_fn).astype('int')\n",
    "    df = df[df['long_short'] != 0]\n",
    "    \n",
    "    df['count'] = df.groupby('as_of_date')['asset'].transform(lambda values: values.count())\n",
    "    df = df[df['count'] >= MIN_ASSETS]\n",
    "    \n",
    "    df.set_index(['as_of_date', 'asset'], inplace=True)\n",
    "    \n",
    "    return df\n",
    "\n",
    "def strategy_returns(year):\n",
    "    start_date = '{}-01-01'.format(year)\n",
    "    end_date = '{}-01-01'.format(year + 1)\n",
    "    \n",
    "    df = eps_deltas(start_date, end_date)\n",
    "    df.index = df.index.set_levels(df.index.levels[0].map(shift_date_fn(1)), 'as_of_date')\n",
    "    \n",
    "    df = longs_and_shorts(df)\n",
    "    udf = universe(start_date, end_date)\n",
    "    \n",
    "    df = df.join(udf, how='inner')\n",
    "    assets = dfutils.unique_assets(df)\n",
    "\n",
    "    if len(assets) == 0:\n",
    "        return pd.DataFrame(columns=['as_of_date', 'return'])\n",
    "    \n",
    "    rdf = returns(start_date, end_date, assets, return_columns=['open_return'])\n",
    "    rdf.rename(columns={'open_return': 'return'}, inplace=True)\n",
    "    \n",
    "    df = df.join(rdf, how='inner')\n",
    "    print(df.dtypes)\n",
    "    df['return'] *= df['long_short']\n",
    "    df.reset_index(inplace=True)\n",
    "    df = df.groupby('as_of_date')[['return']].mean()\n",
    "    \n",
    "    return df\n",
    "\n",
    "def show_cumulative_returns(df):\n",
    "    if not df.empty:\n",
    "        cdf = ((df + 1).cumprod() - 1) * 100\n",
    "        cdf.plot()\n",
    "        plt.xlabel('')\n",
    "        plt.ylabel('')\n",
    "        plt.legend(\n",
    "            ['Cumulative Return'],\n",
    "            bbox_to_anchor=(0.50, 0.96),\n",
    "            loc=\"upper center\",\n",
    "            borderaxespad=0,\n",
    "            ncol=1\n",
    "        )\n",
    "        plt.show()\n",
    "    \n",
    "def performance_summary(df):\n",
    "    if df.empty:\n",
    "        return None\n",
    "    \n",
    "    df.dropna(inplace=True)\n",
    "    numday = df['return'].count()\n",
    "    avgret = df['return'].mean()\n",
    "    stdret = np.std(df['return'])\n",
    "    \n",
    "    data = []\n",
    "    \n",
    "    if numday > 0 and stdret > 0:\n",
    "        cumret = ((df['return'] + 1).prod() - 1)\n",
    "        annret = avgret * 252\n",
    "        volatl = stdret * math.sqrt(252)\n",
    "        sharpe = math.sqrt(252) * (avgret / stdret)\n",
    "        \n",
    "        data = np.array([df.index[0].year, cumret, avgret, numday, annret, sharpe, volatl]).reshape(1, 7)\n",
    "        \n",
    "    columns = [\n",
    "        'Year',\n",
    "        'Cumulative Return',\n",
    "        'Avg Daily Return',\n",
    "        'Num Trading Days',\n",
    "        'Return (Annualized)',\n",
    "        'Sharpe Ratio',\n",
    "        'Volatility'\n",
    "    ]\n",
    "    \n",
    "    pdf = pd.DataFrame(data=data, columns=columns)\n",
    "    pdf['Year'] = pdf['Year'].astype(int)\n",
    "    \n",
    "    return pdf\n",
    "\n",
    "def show_yearly_performance(years):\n",
    "    rdfs = []\n",
    "    perfs = []\n",
    "    \n",
    "    for year in years:\n",
    "        srdf = strategy_returns(year)\n",
    "        srdf['return'] *= LEVERAGE_RATIO\n",
    "\n",
    "        perf = performance_summary(srdf)\n",
    "        display(perf)\n",
    "        \n",
    "        show_cumulative_returns(srdf)\n",
    "        \n",
    "        if srdf is not None:\n",
    "            rdfs.append(srdf)\n",
    "            \n",
    "        if perf is not None:\n",
    "            perfs.append(perf)\n",
    "    \n",
    "    ardf = pd.concat(rdfs)\n",
    "    aperf = pd.concat(perfs)\n",
    "    \n",
    "    show_cumulative_returns(ardf)\n",
    "    \n",
    "    aperf.drop(['Year'], axis=1, inplace=True)\n",
    "    aperf = aperf.mean().to_frame().transpose()\n",
    "    display(aperf)\n",
    "\n",
    "    return ardf\n",
    "\n",
    "def show_yearly_performance_as_table(ardf):\n",
    "    cdf = ((ardf + 1).cumprod() - 1) * 100\n",
    "\n",
    "    print(len(cdf))\n",
    "\n",
    "    group_size = 60\n",
    "    num_groups = int(math.ceil(float(len(cdf)) / group_size))\n",
    "\n",
    "    for i in range(0, num_groups):\n",
    "        start = i * group_size\n",
    "        end = start + 60\n",
    "\n",
    "        if end > len(cdf):\n",
    "            end = -1\n",
    "\n",
    "        pdf = cdf.iloc[start:end]\n",
    "        display(pdf)\n",
    "        \n",
    "def display_positions(year):\n",
    "    sdf = signals(year)\n",
    "    df = longs_and_shorts(sdf)\n",
    "    \n",
    "    df.reset_index(inplace=True)\n",
    "    df['ticker'] = list(map(lambda a: a.symbol, df['asset']))\n",
    "    df['trade_time'] = 'Market Open'\n",
    "    df.loc[df['hour'] == 14, 'trade_time'] = 'Market Close'\n",
    "    df = df[['as_of_date', 'trade_time', 'ticker', 'long', 'short']]\n",
    "    \n",
    "    display(df)\n",
    "    \n",
    "    return df\n"
   ]
  },
  {
   "cell_type": "code",
   "execution_count": 4,
   "metadata": {
    "scrolled": false
   },
   "outputs": [
    {
     "name": "stdout",
     "output_type": "stream",
     "text": [
      "2018-08-14 16:33:01,851 [INFO] estimize.services.impl.estimize_consensus_service_default_impl: get_final_consensuses: start\n",
      "2018-08-14 16:33:02,040 [INFO] estimize.services.impl.estimize_consensus_service_default_impl: get_final_consensuses: end\n",
      "585083\n",
      "573805\n"
     ]
    },
    {
     "data": {
      "text/plain": [
       "None"
      ]
     },
     "metadata": {},
     "output_type": "display_data"
    },
    {
     "name": "stdout",
     "output_type": "stream",
     "text": [
      "2018-08-14 16:33:11,517 [INFO] estimize.services.impl.estimize_consensus_service_default_impl: get_final_consensuses: start\n",
      "2018-08-14 16:33:11,584 [INFO] estimize.services.impl.estimize_consensus_service_default_impl: get_final_consensuses: end\n",
      "685505\n",
      "679256\n",
      "eps_delta     float64\n",
      "long_short      int64\n",
      "count          object\n",
      "return        float64\n",
      "dtype: object\n"
     ]
    },
    {
     "data": {
      "text/html": [
       "<div>\n",
       "<table border=\"1\" class=\"dataframe\">\n",
       "  <thead>\n",
       "    <tr style=\"text-align: right;\">\n",
       "      <th></th>\n",
       "      <th>Year</th>\n",
       "      <th>Cumulative Return</th>\n",
       "      <th>Avg Daily Return</th>\n",
       "      <th>Num Trading Days</th>\n",
       "      <th>Return (Annualized)</th>\n",
       "      <th>Sharpe Ratio</th>\n",
       "      <th>Volatility</th>\n",
       "    </tr>\n",
       "  </thead>\n",
       "  <tbody>\n",
       "    <tr>\n",
       "      <th>0</th>\n",
       "      <td>2013</td>\n",
       "      <td>0.023941</td>\n",
       "      <td>0.008084</td>\n",
       "      <td>3.0</td>\n",
       "      <td>2.037213</td>\n",
       "      <td>7.021492</td>\n",
       "      <td>0.29014</td>\n",
       "    </tr>\n",
       "  </tbody>\n",
       "</table>\n",
       "</div>"
      ],
      "text/plain": [
       "   Year  Cumulative Return  Avg Daily Return  Num Trading Days  \\\n",
       "0  2013           0.023941          0.008084               3.0   \n",
       "\n",
       "   Return (Annualized)  Sharpe Ratio  Volatility  \n",
       "0             2.037213      7.021492     0.29014  "
      ]
     },
     "metadata": {},
     "output_type": "display_data"
    },
    {
     "data": {
      "image/png": "[encoded data removed]",
      "text/plain": [
       "<Figure size 432x288 with 1 Axes>"
      ]
     },
     "metadata": {},
     "output_type": "display_data"
    },
    {
     "name": "stdout",
     "output_type": "stream",
     "text": [
      "2018-08-14 16:33:21,307 [INFO] estimize.services.impl.estimize_consensus_service_default_impl: get_final_consensuses: start\n",
      "2018-08-14 16:33:21,372 [INFO] estimize.services.impl.estimize_consensus_service_default_impl: get_final_consensuses: end\n",
      "737635\n",
      "734594\n",
      "eps_delta     float64\n",
      "long_short      int64\n",
      "count          object\n",
      "return        float64\n",
      "dtype: object\n"
     ]
    },
    {
     "data": {
      "text/html": [
       "<div>\n",
       "<table border=\"1\" class=\"dataframe\">\n",
       "  <thead>\n",
       "    <tr style=\"text-align: right;\">\n",
       "      <th></th>\n",
       "      <th>Year</th>\n",
       "      <th>Cumulative Return</th>\n",
       "      <th>Avg Daily Return</th>\n",
       "      <th>Num Trading Days</th>\n",
       "      <th>Return (Annualized)</th>\n",
       "      <th>Sharpe Ratio</th>\n",
       "      <th>Volatility</th>\n",
       "    </tr>\n",
       "  </thead>\n",
       "  <tbody>\n",
       "    <tr>\n",
       "      <th>0</th>\n",
       "      <td>2014</td>\n",
       "      <td>0.193383</td>\n",
       "      <td>0.009604</td>\n",
       "      <td>19.0</td>\n",
       "      <td>2.420277</td>\n",
       "      <td>6.739101</td>\n",
       "      <td>0.359139</td>\n",
       "    </tr>\n",
       "  </tbody>\n",
       "</table>\n",
       "</div>"
      ],
      "text/plain": [
       "   Year  Cumulative Return  Avg Daily Return  Num Trading Days  \\\n",
       "0  2014           0.193383          0.009604              19.0   \n",
       "\n",
       "   Return (Annualized)  Sharpe Ratio  Volatility  \n",
       "0             2.420277      6.739101    0.359139  "
      ]
     },
     "metadata": {},
     "output_type": "display_data"
    },
    {
     "data": {
      "image/png": "[encoded data removed]",
      "text/plain": [
       "<Figure size 432x288 with 1 Axes>"
      ]
     },
     "metadata": {},
     "output_type": "display_data"
    },
    {
     "name": "stdout",
     "output_type": "stream",
     "text": [
      "2018-08-14 16:33:31,612 [INFO] estimize.services.impl.estimize_consensus_service_default_impl: get_final_consensuses: start\n",
      "2018-08-14 16:33:31,679 [INFO] estimize.services.impl.estimize_consensus_service_default_impl: get_final_consensuses: end\n",
      "751815\n",
      "745299\n",
      "eps_delta     float64\n",
      "long_short      int64\n",
      "count          object\n",
      "return        float64\n",
      "dtype: object\n"
     ]
    },
    {
     "data": {
      "text/html": [
       "<div>\n",
       "<table border=\"1\" class=\"dataframe\">\n",
       "  <thead>\n",
       "    <tr style=\"text-align: right;\">\n",
       "      <th></th>\n",
       "      <th>Year</th>\n",
       "      <th>Cumulative Return</th>\n",
       "      <th>Avg Daily Return</th>\n",
       "      <th>Num Trading Days</th>\n",
       "      <th>Return (Annualized)</th>\n",
       "      <th>Sharpe Ratio</th>\n",
       "      <th>Volatility</th>\n",
       "    </tr>\n",
       "  </thead>\n",
       "  <tbody>\n",
       "    <tr>\n",
       "      <th>0</th>\n",
       "      <td>2015</td>\n",
       "      <td>0.450617</td>\n",
       "      <td>0.009665</td>\n",
       "      <td>40.0</td>\n",
       "      <td>2.43562</td>\n",
       "      <td>5.978308</td>\n",
       "      <td>0.40741</td>\n",
       "    </tr>\n",
       "  </tbody>\n",
       "</table>\n",
       "</div>"
      ],
      "text/plain": [
       "   Year  Cumulative Return  Avg Daily Return  Num Trading Days  \\\n",
       "0  2015           0.450617          0.009665              40.0   \n",
       "\n",
       "   Return (Annualized)  Sharpe Ratio  Volatility  \n",
       "0              2.43562      5.978308     0.40741  "
      ]
     },
     "metadata": {},
     "output_type": "display_data"
    },
    {
     "data": {
      "image/png": "[encoded data removed]",
      "text/plain": [
       "<Figure size 432x288 with 1 Axes>"
      ]
     },
     "metadata": {},
     "output_type": "display_data"
    },
    {
     "name": "stdout",
     "output_type": "stream",
     "text": [
      "2018-08-14 16:33:42,463 [INFO] estimize.services.impl.estimize_consensus_service_default_impl: get_final_consensuses: start\n",
      "2018-08-14 16:33:42,662 [INFO] estimize.services.impl.estimize_consensus_service_default_impl: get_final_consensuses: end\n",
      "757698\n",
      "745295\n",
      "eps_delta     float64\n",
      "long_short      int64\n",
      "count          object\n",
      "return        float64\n",
      "dtype: object\n"
     ]
    },
    {
     "data": {
      "text/html": [
       "<div>\n",
       "<table border=\"1\" class=\"dataframe\">\n",
       "  <thead>\n",
       "    <tr style=\"text-align: right;\">\n",
       "      <th></th>\n",
       "      <th>Year</th>\n",
       "      <th>Cumulative Return</th>\n",
       "      <th>Avg Daily Return</th>\n",
       "      <th>Num Trading Days</th>\n",
       "      <th>Return (Annualized)</th>\n",
       "      <th>Sharpe Ratio</th>\n",
       "      <th>Volatility</th>\n",
       "    </tr>\n",
       "  </thead>\n",
       "  <tbody>\n",
       "    <tr>\n",
       "      <th>0</th>\n",
       "      <td>2016</td>\n",
       "      <td>0.520543</td>\n",
       "      <td>0.009401</td>\n",
       "      <td>46.0</td>\n",
       "      <td>2.369007</td>\n",
       "      <td>6.660622</td>\n",
       "      <td>0.355674</td>\n",
       "    </tr>\n",
       "  </tbody>\n",
       "</table>\n",
       "</div>"
      ],
      "text/plain": [
       "   Year  Cumulative Return  Avg Daily Return  Num Trading Days  \\\n",
       "0  2016           0.520543          0.009401              46.0   \n",
       "\n",
       "   Return (Annualized)  Sharpe Ratio  Volatility  \n",
       "0             2.369007      6.660622    0.355674  "
      ]
     },
     "metadata": {},
     "output_type": "display_data"
    },
    {
     "data": {
      "image/png": "[encoded data removed]",
      "text/plain": [
       "<Figure size 432x288 with 1 Axes>"
      ]
     },
     "metadata": {},
     "output_type": "display_data"
    },
    {
     "name": "stdout",
     "output_type": "stream",
     "text": [
      "2018-08-14 16:33:53,702 [INFO] estimize.services.impl.estimize_consensus_service_default_impl: get_final_consensuses: start\n",
      "2018-08-14 16:33:53,761 [INFO] estimize.services.impl.estimize_consensus_service_default_impl: get_final_consensuses: end\n",
      "758093\n",
      "742609\n",
      "eps_delta     float64\n",
      "long_short      int64\n",
      "count          object\n",
      "return        float64\n",
      "dtype: object\n"
     ]
    },
    {
     "data": {
      "text/html": [
       "<div>\n",
       "<table border=\"1\" class=\"dataframe\">\n",
       "  <thead>\n",
       "    <tr style=\"text-align: right;\">\n",
       "      <th></th>\n",
       "      <th>Year</th>\n",
       "      <th>Cumulative Return</th>\n",
       "      <th>Avg Daily Return</th>\n",
       "      <th>Num Trading Days</th>\n",
       "      <th>Return (Annualized)</th>\n",
       "      <th>Sharpe Ratio</th>\n",
       "      <th>Volatility</th>\n",
       "    </tr>\n",
       "  </thead>\n",
       "  <tbody>\n",
       "    <tr>\n",
       "      <th>0</th>\n",
       "      <td>2017</td>\n",
       "      <td>0.799383</td>\n",
       "      <td>0.012474</td>\n",
       "      <td>48.0</td>\n",
       "      <td>3.143326</td>\n",
       "      <td>11.01282</td>\n",
       "      <td>0.285424</td>\n",
       "    </tr>\n",
       "  </tbody>\n",
       "</table>\n",
       "</div>"
      ],
      "text/plain": [
       "   Year  Cumulative Return  Avg Daily Return  Num Trading Days  \\\n",
       "0  2017           0.799383          0.012474              48.0   \n",
       "\n",
       "   Return (Annualized)  Sharpe Ratio  Volatility  \n",
       "0             3.143326      11.01282    0.285424  "
      ]
     },
     "metadata": {},
     "output_type": "display_data"
    },
    {
     "data": {
      "image/png": "[encoded data removed]",
      "text/plain": [
       "<Figure size 432x288 with 1 Axes>"
      ]
     },
     "metadata": {},
     "output_type": "display_data"
    },
    {
     "name": "stdout",
     "output_type": "stream",
     "text": [
      "2018-08-14 16:34:05,613 [INFO] estimize.services.impl.estimize_consensus_service_default_impl: get_final_consensuses: start\n",
      "2018-08-14 16:34:05,672 [INFO] estimize.services.impl.estimize_consensus_service_default_impl: get_final_consensuses: end\n",
      "184525\n",
      "180560\n",
      "eps_delta     float64\n",
      "long_short      int64\n",
      "count          object\n",
      "return        float64\n",
      "dtype: object\n"
     ]
    },
    {
     "data": {
      "text/html": [
       "<div>\n",
       "<table border=\"1\" class=\"dataframe\">\n",
       "  <thead>\n",
       "    <tr style=\"text-align: right;\">\n",
       "      <th></th>\n",
       "      <th>Year</th>\n",
       "      <th>Cumulative Return</th>\n",
       "      <th>Avg Daily Return</th>\n",
       "      <th>Num Trading Days</th>\n",
       "      <th>Return (Annualized)</th>\n",
       "      <th>Sharpe Ratio</th>\n",
       "      <th>Volatility</th>\n",
       "    </tr>\n",
       "  </thead>\n",
       "  <tbody>\n",
       "    <tr>\n",
       "      <th>0</th>\n",
       "      <td>2018</td>\n",
       "      <td>0.050866</td>\n",
       "      <td>0.003536</td>\n",
       "      <td>15.0</td>\n",
       "      <td>0.891035</td>\n",
       "      <td>2.653274</td>\n",
       "      <td>0.335825</td>\n",
       "    </tr>\n",
       "  </tbody>\n",
       "</table>\n",
       "</div>"
      ],
      "text/plain": [
       "   Year  Cumulative Return  Avg Daily Return  Num Trading Days  \\\n",
       "0  2018           0.050866          0.003536              15.0   \n",
       "\n",
       "   Return (Annualized)  Sharpe Ratio  Volatility  \n",
       "0             0.891035      2.653274    0.335825  "
      ]
     },
     "metadata": {},
     "output_type": "display_data"
    },
    {
     "data": {
      "image/png": "[encoded data removed]",
      "text/plain": [
       "<Figure size 432x288 with 1 Axes>"
      ]
     },
     "metadata": {},
     "output_type": "display_data"
    },
    {
     "data": {
      "image/png": "[encoded data removed]",
      "text/plain": [
       "<Figure size 432x288 with 1 Axes>"
      ]
     },
     "metadata": {},
     "output_type": "display_data"
    },
    {
     "data": {
      "text/html": [
       "<div>\n",
       "<table border=\"1\" class=\"dataframe\">\n",
       "  <thead>\n",
       "    <tr style=\"text-align: right;\">\n",
       "      <th></th>\n",
       "      <th>Cumulative Return</th>\n",
       "      <th>Avg Daily Return</th>\n",
       "      <th>Num Trading Days</th>\n",
       "      <th>Return (Annualized)</th>\n",
       "      <th>Sharpe Ratio</th>\n",
       "      <th>Volatility</th>\n",
       "    </tr>\n",
       "  </thead>\n",
       "  <tbody>\n",
       "    <tr>\n",
       "      <th>0</th>\n",
       "      <td>0.339789</td>\n",
       "      <td>0.008794</td>\n",
       "      <td>28.5</td>\n",
       "      <td>2.21608</td>\n",
       "      <td>6.677603</td>\n",
       "      <td>0.338935</td>\n",
       "    </tr>\n",
       "  </tbody>\n",
       "</table>\n",
       "</div>"
      ],
      "text/plain": [
       "   Cumulative Return  Avg Daily Return  Num Trading Days  Return (Annualized)  \\\n",
       "0           0.339789          0.008794              28.5              2.21608   \n",
       "\n",
       "   Sharpe Ratio  Volatility  \n",
       "0      6.677603    0.338935  "
      ]
     },
     "metadata": {},
     "output_type": "display_data"
    }
   ],
   "source": [
    "df = show_yearly_performance(range(2012, 2019))\n"
   ]
  },
  {
   "cell_type": "code",
   "execution_count": 5,
   "metadata": {},
   "outputs": [],
   "source": [
    "# df = display_positions(2017)\n",
    "# df.to_csv('2017_signal_positions.csv')\n",
    "\n",
    "# assets = get_assets(['CUDA'])\n",
    "# df = day_and_night_returns('2016-12-29', '2017-01-9', assets, include_return=True)\n",
    "# display(df.head())\n",
    "\n",
    "# df = signals(2017)\n",
    "# df = df[df.index.get_level_values('asset') == get_assets(['CUDA'])[0]]\n",
    "# print(len(df))\n",
    "# display(df.head(10))\n",
    "# tickers = [a.symbol for a in get_unique_assets(df)]\n",
    "# tickers.sort()\n",
    "# display(tickers)\n",
    "\n",
    "# df = signal_returns(2017)\n",
    "# display(df.head())"
   ]
  },
  {
   "cell_type": "code",
   "execution_count": null,
   "metadata": {},
   "outputs": [],
   "source": []
  }
 ],
 "metadata": {
  "kernelspec": {
   "display_name": "Python 3",
   "language": "python",
   "name": "python3"
  },
  "language_info": {
   "codemirror_mode": {
    "name": "ipython",
    "version": 3
   },
   "file_extension": ".py",
   "mimetype": "text/x-python",
   "name": "python",
   "nbconvert_exporter": "python",
   "pygments_lexer": "ipython3",
   "version": "3.5.0"
  }
 },
 "nbformat": 4,
 "nbformat_minor": 2
}
