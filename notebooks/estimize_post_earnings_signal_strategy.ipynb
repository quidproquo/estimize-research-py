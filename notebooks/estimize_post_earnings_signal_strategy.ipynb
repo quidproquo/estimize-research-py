{
 "cells": [
  {
   "cell_type": "markdown",
   "metadata": {},
   "source": [
    "# Estimize Post-Earnings Signal Strategy\n",
    "\n",
    "This notebook shows the performance of a trading strategy that only uses the Post-earnings Estimize Signal. The Post-earnings Signal exists for three trading days following an earnings report. It has much fewer trading days per year than the full signal, which covers roughly thirteen trading days (10 days for pre, and 3 days for post).\n",
    "\n",
    "**Conclusions:**\n",
    "\n",
    "* The strategy shows higher alpha than the full signal strategy\n",
    "* Has much fewer trading days (70 on average) per year\n",
    "\n",
    "## Data and Methodology\n",
    "\n",
    "**Datasources:**\n",
    "\n",
    "* Estimize Signal (Estimize signal_time_series.csv)\n",
    "* Asset historical prices (Zipline.io/Quandl prices dataset)"
   ]
  },
  {
   "cell_type": "code",
   "execution_count": 1,
   "metadata": {},
   "outputs": [],
   "source": [
    "# Imports\n",
    "\n",
    "from datetime import timedelta\n",
    "from IPython.display import display, HTML, Markdown\n",
    "import logging.config\n",
    "import os\n",
    "import sys\n",
    "\n",
    "from injector import Injector\n",
    "import math\n",
    "import matplotlib.cm as cmx\n",
    "import matplotlib.colors as colors\n",
    "import matplotlib.pyplot as plt\n",
    "import numpy as np\n",
    "import pandas as pd\n",
    "from scipy.stats import mstats\n",
    "\n",
    "module_path = os.path.abspath(os.path.join('..'))\n",
    "\n",
    "if module_path not in sys.path:\n",
    "    sys.path.append(module_path)\n",
    "\n",
    "from estimize.logging import configure_logging\n",
    "from estimize.di.default_module import DefaultModule\n",
    "from estimize.services import (\n",
    "    AssetService, EstimizeSignalService, MarketCapService\n",
    ")\n",
    "from estimize.pandas import dfutils\n"
   ]
  },
  {
   "cell_type": "code",
   "execution_count": 2,
   "metadata": {},
   "outputs": [],
   "source": [
    "TIMEZONE = 'US/Eastern'\n",
    "\n",
    "# Asset universe parameters:\n",
    "MIN_MARKET_CAP = 100e6\n",
    "MIN_AVG_DOLLAR_VOL = 1e6\n",
    "MIN_PRICE = 4\n",
    "\n",
    "# Signal parameters:\n",
    "POST_SIGNAL_ONLY = True # If True, only post-earnings signal is used\n",
    "\n",
    "# Trading parameters:\n",
    "SIGNAL_QUANTILE = 0.10 # Upper and lower signal quantile to select assets\n",
    "MIN_ASSETS = 20 # Min number of total long and short assets, below which no trades occur\n",
    "LEVERAGE_RATIO = 2\n",
    "\n",
    "configure_logging('WARN')\n",
    "\n",
    "injector = Injector([DefaultModule])\n",
    "asset_service = injector.get(AssetService)\n",
    "\n",
    "def get_assets(tickers):\n",
    "    asset_service = injector.get(AssetService)\n",
    "    \n",
    "    return asset_service.get_assets(tickers)\n",
    "\n",
    "def get_unique_assets(df):\n",
    "    return dfutils.unique_assets(df)\n",
    "\n",
    "def universe(start_date, end_date):\n",
    "    asset_service = injector.get(AssetService)\n",
    "    market_cap_service = injector.get(MarketCapService)\n",
    "    \n",
    "    cdf = market_cap_service.get_market_caps(start_date, end_date)\n",
    "#     print(len(cdf))\n",
    "    cdf = cdf.loc[cdf['market_cap'] >= MIN_MARKET_CAP]\n",
    "#     print(len(cdf))\n",
    "    \n",
    "    df = asset_service.get_universe(start_date, end_date, min_avg_dollar_vol=MIN_AVG_DOLLAR_VOL, min_price=MIN_PRICE)\n",
    "    df = df.join(cdf, how='inner')\n",
    "    df = df[[]]\n",
    "    \n",
    "    return df\n",
    "\n",
    "def day_and_night_returns(start_date, end_date, assets, include_return=False):\n",
    "    df = asset_service.get_returns(start_date, end_date, assets)[['inter_day_return', 'intra_day_return', 'close_return']]\n",
    "\n",
    "    df.reset_index(inplace=True)\n",
    "    df = pd.pivot_table(df, index='as_of_date', columns='asset')\n",
    "    \n",
    "    cr = df['close_return'].stack()\n",
    "    dr = df['intra_day_return'].stack()\n",
    "    nr = df['inter_day_return'].shift(-1).stack()\n",
    "    df = pd.DataFrame(dict(dayret=dr, nightret=nr))\n",
    "    \n",
    "    if include_return:\n",
    "        df['return'] = cr\n",
    "    \n",
    "    df.reset_index(inplace=True)\n",
    "    df['as_of_date'] = df['as_of_date'].dt.date\n",
    "    df.set_index(['as_of_date', 'asset'], inplace=True)\n",
    "    \n",
    "    return df\n",
    "\n",
    "def signals(year):    \n",
    "    signal_service = injector.get(EstimizeSignalService)\n",
    "    start_date = '{}-01-01'.format(year)\n",
    "    end_date = '{}-01-01'.format(year + 1)\n",
    "    \n",
    "    df = signal_service.get_signals(start_date, end_date)\n",
    "    df.dropna(inplace=True)\n",
    "    \n",
    "    if POST_SIGNAL_ONLY:\n",
    "        df = df[df['type'] == 'post']\n",
    "    \n",
    "    df.reset_index(inplace=True)\n",
    "    df['as_of_date'] = df['as_of_date'].dt.tz_localize('UTC').dt.tz_convert('US/Eastern')\n",
    "    df['hour'] = df['as_of_date'].dt.hour\n",
    "    df['as_of_date'] = df['as_of_date'].dt.date\n",
    "    df.drop(['fiscal_date', 'reports_at_date', 'type', 'bmo'], axis=1, inplace=True)\n",
    "    df.set_index(['as_of_date', 'asset'], inplace=True)\n",
    "    \n",
    "    return df\n",
    "\n",
    "def longs_and_shorts(signals_df):\n",
    "    df = signals_df.reset_index()\n",
    "    gdf = df.groupby(['as_of_date', 'hour'])\n",
    "    df.set_index(['as_of_date', 'hour'], inplace=True)\n",
    "\n",
    "    botq = gdf.quantile(SIGNAL_QUANTILE)\n",
    "    botq.rename(columns={'signal': 'bottom_quantile'}, inplace=True)\n",
    "\n",
    "    topq = gdf.quantile(1 - SIGNAL_QUANTILE)\n",
    "    topq.rename(columns={'signal': 'top_quantile'}, inplace=True)\n",
    "\n",
    "    df = df.join([botq, topq], how='inner')\n",
    "    df['short'] = df['signal'] <= df['bottom_quantile']\n",
    "    df['long'] = df['signal'] >= df['top_quantile']\n",
    "    df = df[df['short'] | df['long']]\n",
    "    df.drop(['bottom_quantile', 'top_quantile', 'signal'], axis=1, inplace=True)\n",
    "    \n",
    "    df['count'] = df.reset_index().groupby(['as_of_date', 'hour'])['asset'].count()\n",
    "    df = df[df['count'] >= MIN_ASSETS]\n",
    "    df.drop(['count'], axis=1, inplace=True)\n",
    "    df.reset_index(inplace=True)\n",
    "    df.set_index(['as_of_date', 'asset'], inplace=True)\n",
    "    \n",
    "    return df\n",
    "\n",
    "def signal_returns(year):\n",
    "    start_date = '{}-01-01'.format(year)\n",
    "    end_date = '{}-01-01'.format(year + 1)\n",
    "    \n",
    "    udf = universe(start_date, end_date)\n",
    "    sdf = signals(year)\n",
    "    fsdf = sdf.join(udf, how='inner')\n",
    "    \n",
    "    lsdf = longs_and_shorts(fsdf)\n",
    "    assets = dfutils.unique_assets(lsdf)\n",
    "    \n",
    "    if len(assets) == 0:\n",
    "        return pd.DataFrame(columns=['as_of_date', 'return'])\n",
    "    \n",
    "    rdf = day_and_night_returns(start_date, end_date, assets)\n",
    "    \n",
    "    df = lsdf.join(rdf, how='inner')\n",
    "    df.loc[df['short'] == True, ['dayret', 'nightret']] *= -1\n",
    "    df.drop(['long', 'short'], axis=1, inplace=True)\n",
    "    df.reset_index(inplace=True)\n",
    "    \n",
    "    mdf = df[df['hour'] == 7].copy()\n",
    "    mdf.drop(['nightret'], axis=1, inplace=True)\n",
    "    mdf.rename(columns={'dayret': 'return'}, inplace=True)\n",
    "    \n",
    "    ndf = df[df['hour'] == 14].copy()\n",
    "    ndf.drop(['dayret'], axis=1, inplace=True)\n",
    "    ndf.rename(columns={'nightret': 'return'}, inplace=True)\n",
    "    \n",
    "    # Calculate morning and overnight returns\n",
    "    df = pd.concat([mdf, ndf])\n",
    "    df = df.groupby(['as_of_date', 'hour']).mean()\n",
    "    \n",
    "    # Calculate daily returns\n",
    "    df.reset_index(inplace=True)\n",
    "    df.drop(['hour'], axis=1, inplace=True)\n",
    "    df = df.groupby(['as_of_date']).sum()\n",
    "    \n",
    "    return df\n",
    "\n",
    "def show_cumulative_returns(df):\n",
    "    if not df.empty:\n",
    "        cdf = ((df + 1).cumprod() - 1) * 100\n",
    "        cdf.plot()\n",
    "        plt.xlabel('')\n",
    "        plt.ylabel('')\n",
    "        plt.legend(\n",
    "            ['Cumulative Return'],\n",
    "            bbox_to_anchor=(0.50, 0.96),\n",
    "            loc=\"upper center\",\n",
    "            borderaxespad=0,\n",
    "            ncol=1\n",
    "        )\n",
    "        plt.show()\n",
    "    \n",
    "def performance_summary(df):\n",
    "    if df.empty:\n",
    "        return None\n",
    "    \n",
    "    df.dropna(inplace=True)\n",
    "    numday = df['return'].count()\n",
    "    avgret = df['return'].mean()\n",
    "    stdret = np.std(df['return'])\n",
    "    \n",
    "    data = []\n",
    "    \n",
    "    if numday > 0 and stdret > 0:\n",
    "        cumret = ((df['return'] + 1).prod() - 1)\n",
    "        annret = avgret * 252\n",
    "        volatl = stdret * math.sqrt(252)\n",
    "        sharpe = math.sqrt(252) * (avgret / stdret)\n",
    "        \n",
    "        data = np.array([df.index[0].year, cumret, avgret, numday, annret, sharpe, volatl]).reshape(1, 7)\n",
    "        \n",
    "    columns = [\n",
    "        'Year',\n",
    "        'Cumulative Return',\n",
    "        'Avg Daily Return',\n",
    "        'Num Trading Days',\n",
    "        'Return (Annualized)',\n",
    "        'Sharpe Ratio',\n",
    "        'Volatility'\n",
    "    ]\n",
    "    \n",
    "    pdf = pd.DataFrame(data=data, columns=columns)\n",
    "    pdf['Year'] = pdf['Year'].astype(int)\n",
    "    \n",
    "    return pdf\n",
    "\n",
    "def show_yearly_performance(years):\n",
    "    ardf = None\n",
    "    aperf = None\n",
    "    \n",
    "    for year in years:\n",
    "        display(Markdown('### {}'.format(year)))\n",
    "        srdf = signal_returns(year)\n",
    "        srdf['return'] *= LEVERAGE_RATIO\n",
    "\n",
    "        perf = performance_summary(srdf)\n",
    "        display(perf)\n",
    "        \n",
    "        show_cumulative_returns(srdf)\n",
    "        \n",
    "        if ardf is not None:\n",
    "            ardf = pd.concat([ardf, srdf], copy=False)\n",
    "            aperf = pd.concat([aperf, perf], copy=False)\n",
    "        else:\n",
    "            ardf = srdf\n",
    "            aperf = perf\n",
    "            \n",
    "    show_cumulative_returns(ardf)\n",
    "    \n",
    "    aperf.drop(['Year'], axis=1, inplace=True)\n",
    "    aperf = aperf.mean().to_frame().transpose()\n",
    "    display(aperf)\n",
    "\n",
    "    return ardf\n",
    "\n",
    "def show_yearly_performance_as_table(ardf):\n",
    "    cdf = ((ardf + 1).cumprod() - 1) * 100\n",
    "\n",
    "#     print(len(cdf))\n",
    "\n",
    "    group_size = 60\n",
    "    num_groups = int(math.ceil(float(len(cdf)) / group_size))\n",
    "\n",
    "    for i in range(0, num_groups):\n",
    "        start = i * group_size\n",
    "        end = start + 60\n",
    "\n",
    "        if end > len(cdf):\n",
    "            end = -1\n",
    "\n",
    "        pdf = cdf.iloc[start:end]\n",
    "        display(pdf)\n",
    "        \n",
    "def display_positions(year):\n",
    "    sdf = signals(year)\n",
    "    df = longs_and_shorts(sdf)\n",
    "    \n",
    "    df.reset_index(inplace=True)\n",
    "    df['ticker'] = list(map(lambda a: a.symbol, df['asset']))\n",
    "    df['trade_time'] = 'Market Open'\n",
    "    df.loc[df['hour'] == 14, 'trade_time'] = 'Market Close'\n",
    "    df = df[['as_of_date', 'trade_time', 'ticker', 'long', 'short']]\n",
    "    \n",
    "    display(df)\n",
    "    \n",
    "    return df\n"
   ]
  },
  {
   "cell_type": "code",
   "execution_count": 3,
   "metadata": {},
   "outputs": [],
   "source": [
    "# df = display_positions(2017)\n",
    "# df.to_csv('2017_signal_positions.csv')\n",
    "\n",
    "# assets = get_assets(['CUDA'])\n",
    "# df = day_and_night_returns('2016-12-29', '2017-01-9', assets, include_return=True)\n",
    "# display(df.head())\n",
    "\n",
    "# df = signals(2017)\n",
    "# df = df[df.index.get_level_values('asset') == get_assets(['CUDA'])[0]]\n",
    "# print(len(df))\n",
    "# display(df.head(10))\n",
    "# tickers = [a.symbol for a in get_unique_assets(df)]\n",
    "# tickers.sort()\n",
    "# display(tickers)\n",
    "\n",
    "# df = signal_returns(2017)\n",
    "# display(df.head())"
   ]
  },
  {
   "cell_type": "code",
   "execution_count": 4,
   "metadata": {
    "scrolled": false
   },
   "outputs": [
    {
     "data": {
      "text/markdown": [
       "### 2012"
      ],
      "text/plain": [
       "<IPython.core.display.Markdown object>"
      ]
     },
     "metadata": {},
     "output_type": "display_data"
    },
    {
     "data": {
      "text/plain": [
       "None"
      ]
     },
     "metadata": {},
     "output_type": "display_data"
    },
    {
     "data": {
      "text/markdown": [
       "### 2013"
      ],
      "text/plain": [
       "<IPython.core.display.Markdown object>"
      ]
     },
     "metadata": {},
     "output_type": "display_data"
    },
    {
     "data": {
      "text/html": [
       "<div>\n",
       "<table border=\"1\" class=\"dataframe\">\n",
       "  <thead>\n",
       "    <tr style=\"text-align: right;\">\n",
       "      <th></th>\n",
       "      <th>Year</th>\n",
       "      <th>Cumulative Return</th>\n",
       "      <th>Avg Daily Return</th>\n",
       "      <th>Num Trading Days</th>\n",
       "      <th>Return (Annualized)</th>\n",
       "      <th>Sharpe Ratio</th>\n",
       "      <th>Volatility</th>\n",
       "    </tr>\n",
       "  </thead>\n",
       "  <tbody>\n",
       "    <tr>\n",
       "      <th>0</th>\n",
       "      <td>2013</td>\n",
       "      <td>-0.015496</td>\n",
       "      <td>-0.000688</td>\n",
       "      <td>21.0</td>\n",
       "      <td>-0.173478</td>\n",
       "      <td>-1.041038</td>\n",
       "      <td>0.166639</td>\n",
       "    </tr>\n",
       "  </tbody>\n",
       "</table>\n",
       "</div>"
      ],
      "text/plain": [
       "   Year  Cumulative Return  Avg Daily Return  Num Trading Days  \\\n",
       "0  2013          -0.015496         -0.000688              21.0   \n",
       "\n",
       "   Return (Annualized)  Sharpe Ratio  Volatility  \n",
       "0            -0.173478     -1.041038    0.166639  "
      ]
     },
     "metadata": {},
     "output_type": "display_data"
    },
    {
     "data": {
      "image/png": "[encoded data removed]",
      "text/plain": [
       "<Figure size 432x288 with 1 Axes>"
      ]
     },
     "metadata": {},
     "output_type": "display_data"
    },
    {
     "data": {
      "text/markdown": [
       "### 2014"
      ],
      "text/plain": [
       "<IPython.core.display.Markdown object>"
      ]
     },
     "metadata": {},
     "output_type": "display_data"
    },
    {
     "data": {
      "text/html": [
       "<div>\n",
       "<table border=\"1\" class=\"dataframe\">\n",
       "  <thead>\n",
       "    <tr style=\"text-align: right;\">\n",
       "      <th></th>\n",
       "      <th>Year</th>\n",
       "      <th>Cumulative Return</th>\n",
       "      <th>Avg Daily Return</th>\n",
       "      <th>Num Trading Days</th>\n",
       "      <th>Return (Annualized)</th>\n",
       "      <th>Sharpe Ratio</th>\n",
       "      <th>Volatility</th>\n",
       "    </tr>\n",
       "  </thead>\n",
       "  <tbody>\n",
       "    <tr>\n",
       "      <th>0</th>\n",
       "      <td>2014</td>\n",
       "      <td>0.132122</td>\n",
       "      <td>0.003114</td>\n",
       "      <td>41.0</td>\n",
       "      <td>0.784677</td>\n",
       "      <td>3.856294</td>\n",
       "      <td>0.20348</td>\n",
       "    </tr>\n",
       "  </tbody>\n",
       "</table>\n",
       "</div>"
      ],
      "text/plain": [
       "   Year  Cumulative Return  Avg Daily Return  Num Trading Days  \\\n",
       "0  2014           0.132122          0.003114              41.0   \n",
       "\n",
       "   Return (Annualized)  Sharpe Ratio  Volatility  \n",
       "0             0.784677      3.856294     0.20348  "
      ]
     },
     "metadata": {},
     "output_type": "display_data"
    },
    {
     "data": {
      "image/png": "[encoded data removed]",
      "text/plain": [
       "<Figure size 432x288 with 1 Axes>"
      ]
     },
     "metadata": {},
     "output_type": "display_data"
    },
    {
     "data": {
      "text/markdown": [
       "### 2015"
      ],
      "text/plain": [
       "<IPython.core.display.Markdown object>"
      ]
     },
     "metadata": {},
     "output_type": "display_data"
    },
    {
     "data": {
      "text/html": [
       "<div>\n",
       "<table border=\"1\" class=\"dataframe\">\n",
       "  <thead>\n",
       "    <tr style=\"text-align: right;\">\n",
       "      <th></th>\n",
       "      <th>Year</th>\n",
       "      <th>Cumulative Return</th>\n",
       "      <th>Avg Daily Return</th>\n",
       "      <th>Num Trading Days</th>\n",
       "      <th>Return (Annualized)</th>\n",
       "      <th>Sharpe Ratio</th>\n",
       "      <th>Volatility</th>\n",
       "    </tr>\n",
       "  </thead>\n",
       "  <tbody>\n",
       "    <tr>\n",
       "      <th>0</th>\n",
       "      <td>2015</td>\n",
       "      <td>0.303358</td>\n",
       "      <td>0.004535</td>\n",
       "      <td>60.0</td>\n",
       "      <td>1.142722</td>\n",
       "      <td>4.868441</td>\n",
       "      <td>0.23472</td>\n",
       "    </tr>\n",
       "  </tbody>\n",
       "</table>\n",
       "</div>"
      ],
      "text/plain": [
       "   Year  Cumulative Return  Avg Daily Return  Num Trading Days  \\\n",
       "0  2015           0.303358          0.004535              60.0   \n",
       "\n",
       "   Return (Annualized)  Sharpe Ratio  Volatility  \n",
       "0             1.142722      4.868441     0.23472  "
      ]
     },
     "metadata": {},
     "output_type": "display_data"
    },
    {
     "data": {
      "image/png": "[encoded data removed]",
      "text/plain": [
       "<Figure size 432x288 with 1 Axes>"
      ]
     },
     "metadata": {},
     "output_type": "display_data"
    },
    {
     "data": {
      "text/markdown": [
       "### 2016"
      ],
      "text/plain": [
       "<IPython.core.display.Markdown object>"
      ]
     },
     "metadata": {},
     "output_type": "display_data"
    },
    {
     "data": {
      "text/html": [
       "<div>\n",
       "<table border=\"1\" class=\"dataframe\">\n",
       "  <thead>\n",
       "    <tr style=\"text-align: right;\">\n",
       "      <th></th>\n",
       "      <th>Year</th>\n",
       "      <th>Cumulative Return</th>\n",
       "      <th>Avg Daily Return</th>\n",
       "      <th>Num Trading Days</th>\n",
       "      <th>Return (Annualized)</th>\n",
       "      <th>Sharpe Ratio</th>\n",
       "      <th>Volatility</th>\n",
       "    </tr>\n",
       "  </thead>\n",
       "  <tbody>\n",
       "    <tr>\n",
       "      <th>0</th>\n",
       "      <td>2016</td>\n",
       "      <td>0.415375</td>\n",
       "      <td>0.005084</td>\n",
       "      <td>70.0</td>\n",
       "      <td>1.281277</td>\n",
       "      <td>5.440586</td>\n",
       "      <td>0.235504</td>\n",
       "    </tr>\n",
       "  </tbody>\n",
       "</table>\n",
       "</div>"
      ],
      "text/plain": [
       "   Year  Cumulative Return  Avg Daily Return  Num Trading Days  \\\n",
       "0  2016           0.415375          0.005084              70.0   \n",
       "\n",
       "   Return (Annualized)  Sharpe Ratio  Volatility  \n",
       "0             1.281277      5.440586    0.235504  "
      ]
     },
     "metadata": {},
     "output_type": "display_data"
    },
    {
     "data": {
      "image/png": "[encoded data removed]",
      "text/plain": [
       "<Figure size 432x288 with 1 Axes>"
      ]
     },
     "metadata": {},
     "output_type": "display_data"
    },
    {
     "data": {
      "text/markdown": [
       "### 2017"
      ],
      "text/plain": [
       "<IPython.core.display.Markdown object>"
      ]
     },
     "metadata": {},
     "output_type": "display_data"
    },
    {
     "data": {
      "text/html": [
       "<div>\n",
       "<table border=\"1\" class=\"dataframe\">\n",
       "  <thead>\n",
       "    <tr style=\"text-align: right;\">\n",
       "      <th></th>\n",
       "      <th>Year</th>\n",
       "      <th>Cumulative Return</th>\n",
       "      <th>Avg Daily Return</th>\n",
       "      <th>Num Trading Days</th>\n",
       "      <th>Return (Annualized)</th>\n",
       "      <th>Sharpe Ratio</th>\n",
       "      <th>Volatility</th>\n",
       "    </tr>\n",
       "  </thead>\n",
       "  <tbody>\n",
       "    <tr>\n",
       "      <th>0</th>\n",
       "      <td>2017</td>\n",
       "      <td>0.446534</td>\n",
       "      <td>0.005433</td>\n",
       "      <td>69.0</td>\n",
       "      <td>1.369119</td>\n",
       "      <td>7.346603</td>\n",
       "      <td>0.186361</td>\n",
       "    </tr>\n",
       "  </tbody>\n",
       "</table>\n",
       "</div>"
      ],
      "text/plain": [
       "   Year  Cumulative Return  Avg Daily Return  Num Trading Days  \\\n",
       "0  2017           0.446534          0.005433              69.0   \n",
       "\n",
       "   Return (Annualized)  Sharpe Ratio  Volatility  \n",
       "0             1.369119      7.346603    0.186361  "
      ]
     },
     "metadata": {},
     "output_type": "display_data"
    },
    {
     "data": {
      "image/png": "[encoded data removed]",
      "text/plain": [
       "<Figure size 432x288 with 1 Axes>"
      ]
     },
     "metadata": {},
     "output_type": "display_data"
    },
    {
     "data": {
      "text/markdown": [
       "### 2018"
      ],
      "text/plain": [
       "<IPython.core.display.Markdown object>"
      ]
     },
     "metadata": {},
     "output_type": "display_data"
    },
    {
     "data": {
      "text/html": [
       "<div>\n",
       "<table border=\"1\" class=\"dataframe\">\n",
       "  <thead>\n",
       "    <tr style=\"text-align: right;\">\n",
       "      <th></th>\n",
       "      <th>Year</th>\n",
       "      <th>Cumulative Return</th>\n",
       "      <th>Avg Daily Return</th>\n",
       "      <th>Num Trading Days</th>\n",
       "      <th>Return (Annualized)</th>\n",
       "      <th>Sharpe Ratio</th>\n",
       "      <th>Volatility</th>\n",
       "    </tr>\n",
       "  </thead>\n",
       "  <tbody>\n",
       "    <tr>\n",
       "      <th>0</th>\n",
       "      <td>2018</td>\n",
       "      <td>0.108984</td>\n",
       "      <td>0.004092</td>\n",
       "      <td>26.0</td>\n",
       "      <td>1.031174</td>\n",
       "      <td>4.471427</td>\n",
       "      <td>0.230614</td>\n",
       "    </tr>\n",
       "  </tbody>\n",
       "</table>\n",
       "</div>"
      ],
      "text/plain": [
       "   Year  Cumulative Return  Avg Daily Return  Num Trading Days  \\\n",
       "0  2018           0.108984          0.004092              26.0   \n",
       "\n",
       "   Return (Annualized)  Sharpe Ratio  Volatility  \n",
       "0             1.031174      4.471427    0.230614  "
      ]
     },
     "metadata": {},
     "output_type": "display_data"
    },
    {
     "data": {
      "image/png": "[encoded data removed]",
      "text/plain": [
       "<Figure size 432x288 with 1 Axes>"
      ]
     },
     "metadata": {},
     "output_type": "display_data"
    },
    {
     "data": {
      "image/png": "[encoded data removed]",
      "text/plain": [
       "<Figure size 432x288 with 1 Axes>"
      ]
     },
     "metadata": {},
     "output_type": "display_data"
    },
    {
     "data": {
      "text/html": [
       "<div>\n",
       "<table border=\"1\" class=\"dataframe\">\n",
       "  <thead>\n",
       "    <tr style=\"text-align: right;\">\n",
       "      <th></th>\n",
       "      <th>Cumulative Return</th>\n",
       "      <th>Avg Daily Return</th>\n",
       "      <th>Num Trading Days</th>\n",
       "      <th>Return (Annualized)</th>\n",
       "      <th>Sharpe Ratio</th>\n",
       "      <th>Volatility</th>\n",
       "    </tr>\n",
       "  </thead>\n",
       "  <tbody>\n",
       "    <tr>\n",
       "      <th>0</th>\n",
       "      <td>0.231813</td>\n",
       "      <td>0.003595</td>\n",
       "      <td>47.833333</td>\n",
       "      <td>0.905915</td>\n",
       "      <td>4.157052</td>\n",
       "      <td>0.209553</td>\n",
       "    </tr>\n",
       "  </tbody>\n",
       "</table>\n",
       "</div>"
      ],
      "text/plain": [
       "   Cumulative Return  Avg Daily Return  Num Trading Days  Return (Annualized)  \\\n",
       "0           0.231813          0.003595         47.833333             0.905915   \n",
       "\n",
       "   Sharpe Ratio  Volatility  \n",
       "0      4.157052    0.209553  "
      ]
     },
     "metadata": {},
     "output_type": "display_data"
    }
   ],
   "source": [
    "df = show_yearly_performance(range(2012, 2019))\n"
   ]
  },
  {
   "cell_type": "code",
   "execution_count": null,
   "metadata": {},
   "outputs": [],
   "source": []
  }
 ],
 "metadata": {
  "kernelspec": {
   "display_name": "Python 3",
   "language": "python",
   "name": "python3"
  },
  "language_info": {
   "codemirror_mode": {
    "name": "ipython",
    "version": 3
   },
   "file_extension": ".py",
   "mimetype": "text/x-python",
   "name": "python",
   "nbconvert_exporter": "python",
   "pygments_lexer": "ipython3",
   "version": "3.5.0"
  }
 },
 "nbformat": 4,
 "nbformat_minor": 2
}
