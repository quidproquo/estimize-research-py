{
 "cells": [
  {
   "cell_type": "markdown",
   "metadata": {},
   "source": [
    "# Estimates Analysis\n",
    "\n",
    "TBA \n",
    "\n",
    "Conclusions:\n",
    "\n",
    "TBA\n",
    "\n",
    "## Data and Methodology\n",
    "\n",
    "Datasources:\n",
    "\n",
    "* EPS Consensus values (Estimize consensuses.csv)\n",
    "* Asset historical prices (Zipline.io/Quandl prices dataset)\n",
    "* SPY historical prices (Yahoo Finance)\n"
   ]
  },
  {
   "cell_type": "code",
   "execution_count": 1,
   "metadata": {},
   "outputs": [],
   "source": [
    "# Imports\n",
    "\n",
    "from datetime import timedelta\n",
    "from IPython.display import display, HTML, Markdown\n",
    "import logging.config\n",
    "import math\n",
    "import os\n",
    "import sys\n",
    "\n",
    "from injector import Injector\n",
    "import matplotlib.cm as cmx\n",
    "import matplotlib.colors as colors\n",
    "import matplotlib.pyplot as plt\n",
    "import numpy as np\n",
    "import pandas as pd\n",
    "from scipy.stats import mstats\n",
    "import statsmodels.api as sm\n",
    "\n",
    "module_path = os.path.abspath(os.path.join('..'))\n",
    "\n",
    "if module_path not in sys.path:\n",
    "    sys.path.append(module_path)\n",
    "\n",
    "from estimize.logging import configure_logging\n",
    "from estimize.di.default_module import DefaultModule\n",
    "from estimize.services import (\n",
    "    AssetService, AssetInfoService, CalendarService, EstimatesService, \n",
    "    EstimizeConsensusService, EventStudyService, MarketCapService, ReleasesService\n",
    ")\n",
    "from estimize.pandas import dfutils\n",
    "\n",
    "configure_logging('ERROR')\n",
    "\n",
    "injector = Injector([DefaultModule])\n",
    "asset_service = injector.get(AssetService)\n",
    "asset_info_service = injector.get(AssetInfoService)\n",
    "calendar_service = injector.get(CalendarService)\n",
    "estimates_service = injector.get(EstimatesService)\n",
    "releases_service = injector.get(ReleasesService)\n",
    "estimize_consensus_service = injector.get(EstimizeConsensusService)\n"
   ]
  },
  {
   "cell_type": "code",
   "execution_count": 2,
   "metadata": {},
   "outputs": [],
   "source": [
    "def get_estimates(start_date, end_date):\n",
    "    rdf = releases_service.get_releases(start_date, end_date)\n",
    "    rdf.reset_index(inplace=True)\n",
    "    rdf = rdf[rdf['estimize.eps'].notnull()]\n",
    "    rdf = rdf[rdf['reported.eps'].notnull()]\n",
    "    rdf.set_index('asset', inplace=True)\n",
    "    \n",
    "    adf = asset_info_service.get_asset_info()[['industry', 'sector']]\n",
    "    rdf = rdf.join(adf, how='inner')\n",
    "    rdf.reset_index(inplace=True)\n",
    "    rdf.set_index('release_id', inplace=True)\n",
    "    \n",
    "    df = estimates_service.get_estimates()\n",
    "    df.reset_index(inplace=True)\n",
    "    df.set_index('release_id', inplace=True)\n",
    "    df = df[df['flagged'] == False]\n",
    "    \n",
    "    df = df.join(rdf, how='inner')\n",
    "    df.reset_index(inplace=True)\n",
    "    df.set_index(['asset', 'fiscal_year', 'fiscal_quarter'], inplace=True)\n",
    "    \n",
    "    cdf = estimize_consensus_service.get_final_consensuses(start_date, end_date)\n",
    "    cdf.reset_index(inplace=True)\n",
    "    cdf.set_index(['asset', 'fiscal_year', 'fiscal_quarter'], inplace=True)\n",
    "    \n",
    "    df = df.join(cdf, how='inner', rsuffix='_right')\n",
    "    df.reset_index(inplace=True)\n",
    "    \n",
    "    df = df[['as_of_date', 'created_at', 'reports_at_date', 'bmo', 'sector', 'industry', 'asset', 'release_id', 'user_id', 'eps', 'estimize.eps.mean', 'estimize.eps.sd', 'estimize.eps.weighted', 'wallstreet.eps', 'actual.eps']]\n",
    "    df['eps'] = mstats.winsorize(df['eps'], limits=[0.01, 0.01])\n",
    "    \n",
    "    return df\n",
    "\n",
    "def get_estimate_factors(df):\n",
    "    df = df.copy()\n",
    "    df['error_z_score'] = (df['eps'] - df['actual.eps']) / (df['estimize.eps.sd'] + 0.01)\n",
    "    df['eps_z_score'] = (df['eps'] - df['estimize.eps.mean']) / (df['estimize.eps.sd'] + 0.01)\n",
    "    df['ttr'] = df['as_of_date'].subtract(df['created_at']).dt.total_seconds() / timedelta(days=1).total_seconds()\n",
    "    df = df[df['ttr'] > 0]\n",
    "    df.dropna(subset=['error_z_score', 'eps_z_score'], inplace=True)\n",
    "    \n",
    "    df['error_z_score'] = mstats.winsorize(df['error_z_score'], limits=[0.01, 0.01])\n",
    "    df['eps_z_score'] = mstats.winsorize(df['eps_z_score'], limits=[0.01, 0.01])\n",
    "    \n",
    "    return df\n",
    "\n",
    "def get_factors(df, index):\n",
    "    if index == 'user':\n",
    "        column = 'user_id'\n",
    "    else:\n",
    "        column = index\n",
    "        \n",
    "    error_z_score_column = 'error_z_score_{}'.format(index)\n",
    "            \n",
    "    df = df.groupby([column, 'reports_at_date'])[['error_z_score']].agg(['sum', 'count'])\n",
    "    df.columns = ['_'.join(x) for x in df.columns.ravel()]\n",
    "    df.reset_index(inplace=True)\n",
    "    df.set_index('reports_at_date', inplace=True)\n",
    "    \n",
    "    df = df.groupby(column)[['error_z_score_sum', 'error_z_score_count']].expanding().sum()\n",
    "    df[error_z_score_column] = df['error_z_score_sum'] / df['error_z_score_count']\n",
    "    df.drop(['error_z_score_sum', 'error_z_score_count'], axis=1, inplace=True)\n",
    "    \n",
    "    df.reset_index(inplace=True)\n",
    "    df.set_index('reports_at_date', inplace=True)\n",
    "    df[error_z_score_column] = df.groupby(column)[error_z_score_column].transform(lambda vals: vals.shift(1))\n",
    "    df.fillna(0.0, inplace=True)\n",
    "    \n",
    "    df.reset_index(inplace=True)\n",
    "    df.set_index(['reports_at_date', column], inplace=True)\n",
    "    \n",
    "    return df\n",
    "\n",
    "def get_observations(start_date, end_date, direction=None):\n",
    "    df = get_estimates(start_date, end_date)\n",
    "    df = get_estimate_factors(df)\n",
    "    \n",
    "    if direction == 'positive':\n",
    "        df = df[df['error_z_score'] > 0]\n",
    "    elif direction == 'negative':\n",
    "        df = df[df['error_z_score'] < 0]\n",
    "        \n",
    "    ufdf = get_factors(df, index='user')\n",
    "    afdf = get_factors(df, index='asset')\n",
    "    ifdf = get_factors(df, index='industry')\n",
    "    sfdf = get_factors(df, index='sector')\n",
    "    \n",
    "    df.reset_index(inplace=True)\n",
    "    df.set_index(['reports_at_date', 'sector'], inplace=True)\n",
    "    df = df.join(sfdf, how='inner')\n",
    "\n",
    "    df.reset_index(inplace=True)\n",
    "    df.set_index(['reports_at_date', 'industry'], inplace=True)\n",
    "    df = df.join(ifdf, how='inner')\n",
    "\n",
    "    df.reset_index(inplace=True)\n",
    "    df.set_index(['reports_at_date', 'asset'], inplace=True)\n",
    "    df = df.join(afdf, how='inner')\n",
    "\n",
    "    df.reset_index(inplace=True)\n",
    "    df.set_index(['reports_at_date', 'user_id'], inplace=True)\n",
    "    df = df.join(ufdf, how='inner')\n",
    "    df.reset_index(inplace=True)\n",
    "    \n",
    "    return df\n"
   ]
  },
  {
   "cell_type": "code",
   "execution_count": 3,
   "metadata": {},
   "outputs": [
    {
     "name": "stdout",
     "output_type": "stream",
     "text": [
      "523749\n",
      "-0.88\n",
      "0.9022658443937114\n",
      "8.09\n"
     ]
    }
   ],
   "source": [
    "start_date = '2012-01-01'\n",
    "end_date = '2018-01-01'\n",
    "\n",
    "odf = get_observations(start_date, end_date, direction=None)\n",
    "print(len(odf))\n",
    "print(odf.eps.min())\n",
    "print(odf.eps.mean())\n",
    "print(odf.eps.max())\n",
    "\n",
    "# asset = asset_service.get_asset('AAPL')\n",
    "# asset = asset_service.get_asset('AMZN')\n",
    "# asset = asset_service.get_asset('FB')\n",
    "# asset = asset_service.get_asset('GOOGL')\n",
    "# odf = odf[odf['asset'] == asset]\n",
    "# print(len(odf))"
   ]
  },
  {
   "cell_type": "markdown",
   "metadata": {},
   "source": [
    "## EPS Deltas"
   ]
  },
  {
   "cell_type": "code",
   "execution_count": 4,
   "metadata": {},
   "outputs": [
    {
     "name": "stdout",
     "output_type": "stream",
     "text": [
      "-9.26074331560925\n",
      "-0.32801327610548386\n",
      "8.982859418588\n"
     ]
    },
    {
     "data": {
      "image/png": "[encoded data removed]",
      "text/plain": [
       "<matplotlib.figure.Figure at 0x11571f828>"
      ]
     },
     "metadata": {},
     "output_type": "display_data"
    }
   ],
   "source": [
    "df = odf.copy()\n",
    "\n",
    "# df['error_z_score'] = df['error_z_score_asset']\n",
    "# df['error_z_score'] = df['error_z_score_industry']\n",
    "# df['error_z_score'] = df['error_z_score_sector']\n",
    "\n",
    "# df = df[df['error_z_score'] < 0]\n",
    "# df['error_z_score'] = np.log(-1 * df['error_z_score'])\n",
    "\n",
    "# df = df[df['error_z_score'] > 0]\n",
    "# df['error_z_score'] = np.log(df['error_z_score'])\n",
    "\n",
    "print(df.error_z_score.min())\n",
    "print(df.error_z_score.mean())\n",
    "print(df.error_z_score.max())\n",
    "\n",
    "bins = np.linspace(-8, 8, 100)\n",
    "\n",
    "plt.hist(df.error_z_score, bins)\n",
    "plt.title(\"Estimate Errors\")\n",
    "plt.xlabel(\"Error Z-Score\")\n",
    "plt.ylabel(\"Frequency\")\n",
    "plt.show()\n"
   ]
  },
  {
   "cell_type": "code",
   "execution_count": 13,
   "metadata": {},
   "outputs": [
    {
     "name": "stdout",
     "output_type": "stream",
     "text": [
      "                            OLS Regression Results                            \n",
      "==============================================================================\n",
      "Dep. Variable:          error_z_score   R-squared:                       0.402\n",
      "Model:                            OLS   Adj. R-squared:                  0.402\n",
      "Method:                 Least Squares   F-statistic:                 4.392e+04\n",
      "Date:                Mon, 09 Apr 2018   Prob (F-statistic):               0.00\n",
      "Time:                        13:45:17   Log-Likelihood:            -1.1111e+06\n",
      "No. Observations:              523749   AIC:                         2.222e+06\n",
      "Df Residuals:                  523740   BIC:                         2.222e+06\n",
      "Df Model:                           8                                         \n",
      "Covariance Type:            nonrobust                                         \n",
      "==========================================================================================\n",
      "                             coef    std err          t      P>|t|      [0.025      0.975]\n",
      "------------------------------------------------------------------------------------------\n",
      "const                     -0.2214      0.005    -43.278      0.000      -0.231      -0.211\n",
      "ttr                        0.0003   2.65e-05     10.829      0.000       0.000       0.000\n",
      "error_z_score_user_2      -0.0020      0.001     -1.963      0.050      -0.004   -2.98e-06\n",
      "error_z_score_sector       0.3530      0.014     25.276      0.000       0.326       0.380\n",
      "error_z_score_industry     0.1038      0.007     14.497      0.000       0.090       0.118\n",
      "error_z_score_asset        0.2515      0.002    116.546      0.000       0.247       0.256\n",
      "error_z_score_user        -0.0050      0.004     -1.314      0.189      -0.012       0.002\n",
      "eps_z_score_2             -0.0225      0.001    -39.949      0.000      -0.024      -0.021\n",
      "eps_z_score                1.1452      0.002    481.179      0.000       1.141       1.150\n",
      "==============================================================================\n",
      "Omnibus:                    61461.257   Durbin-Watson:                   1.341\n",
      "Prob(Omnibus):                  0.000   Jarque-Bera (JB):           601088.074\n",
      "Skew:                          -0.155   Prob(JB):                         0.00\n",
      "Kurtosis:                       8.239   Cond. No.                         702.\n",
      "==============================================================================\n",
      "\n",
      "Warnings:\n",
      "[1] Standard Errors assume that the covariance matrix of the errors is correctly specified.\n"
     ]
    }
   ],
   "source": [
    "df = odf.copy()\n",
    "# df = df[df['error_z_score'] < 0]\n",
    "# df['error_z_score'] *= -1\n",
    "# df['error_z_score'] = np.log(-1 * df['error_z_score'])\n",
    "\n",
    "# df = df[df['error_z_score'] > 0]\n",
    "# df['error_z_score'] = np.log(df['error_z_score'])\n",
    "\n",
    "# df['error_z_score'] = mstats.winsorize(df['error_z_score'], limits=[0.001, 0.001])\n",
    "# df['eps_z_score'] = mstats.winsorize(df['eps_z_score'], limits=[0.001, 0.001])\n",
    "# df['error_z_score_user'] = mstats.winsorize(df['error_z_score_user'], limits=[0.001, 0.001])\n",
    "# df['error_z_score_asset'] = mstats.winsorize(df['error_z_score_asset'], limits=[0.001, 0.001])\n",
    "# df['error_z_score_industry'] = mstats.winsorize(df['error_z_score_industry'], limits=[0.001, 0.001])\n",
    "# df['error_z_score_sector'] = mstats.winsorize(df['error_z_score_sector'], limits=[0.001, 0.001])\n",
    "\n",
    "df['eps_z_score_2'] = df['eps_z_score'] * df['eps_z_score']\n",
    "df['error_z_score_user_2'] = df['error_z_score_user'] * df['error_z_score_user']\n",
    "# df['ttr'] = np.log(df['ttr'] + 1)\n",
    "\n",
    "# model_columns = ['eps_z_score'] # R2 = 37.8%\n",
    "# model_columns = ['eps_z_score_2', 'eps_z_score'] # R2 = 38.1%\n",
    "# model_columns = ['error_z_score_user', 'eps_z_score_2', 'eps_z_score'] # R2 = 38.1%\n",
    "# model_columns = ['error_z_score_asset', 'error_z_score_user', 'eps_z_score_2', 'eps_z_score'] # R2 = 40.0%\n",
    "# model_columns = ['error_z_score_industry', 'error_z_score_asset', 'error_z_score_user', 'eps_z_score_2', 'eps_z_score'] # R2 = 40.1%\n",
    "# model_columns = ['ttr', 'error_z_score_sector', 'error_z_score_industry', 'error_z_score_asset', 'error_z_score_user', 'eps_z_score_2', 'eps_z_score'] # R2 = 40.2%  \n",
    "model_columns = ['ttr', 'error_z_score_user_2', 'error_z_score_sector', 'error_z_score_industry', 'error_z_score_asset', 'error_z_score_user', 'eps_z_score_2', 'eps_z_score'] # R2 = 40.2%  \n",
    "\n",
    "value_column = 'error_z_score'\n",
    "\n",
    "X = df[model_columns]\n",
    "X = sm.add_constant(X)\n",
    "y = df[value_column]\n",
    "\n",
    "# Note the difference in argument order\n",
    "model = sm.OLS(y, X).fit()\n",
    "# model = sm.GLM(y, X, family=sm.families.Tweedie(var_power=1.2, link_power=0)).fit()\n",
    "# r2 = 1 - (model.deviance / model.null_deviance)\n",
    "# print('r2: ', r2)\n",
    "df['prediction'] = model.predict(X) # make the predictions by the model\n",
    "\n",
    "# Print out the statistics\n",
    "print(model.summary())\n",
    "\n",
    "p = model.params\n",
    "\n",
    "# generate x-values for your regression line (two is sufficient)\n",
    "x = np.arange(-6, 14)\n",
    "\n",
    "# scatter-plot data\n",
    "# ax = df.plot(x=model_columns[0], y=value_column, kind='scatter')\n",
    "# bx = df.plot(x=model_columns[0], y='prediction', color='red', kind='scatter')"
   ]
  },
  {
   "cell_type": "code",
   "execution_count": 14,
   "metadata": {},
   "outputs": [
    {
     "data": {
      "image/png": "[encoded data removed]",
      "text/plain": [
       "<matplotlib.figure.Figure at 0x1156a5128>"
      ]
     },
     "metadata": {},
     "output_type": "display_data"
    }
   ],
   "source": [
    "bins = np.linspace(-6, 6, 100)\n",
    "\n",
    "plt.hist(df['error_z_score'], bins, alpha=0.90)\n",
    "plt.hist(df['prediction'], bins, color='red', alpha=0.64)\n",
    "plt.title(\"Error Delta\")\n",
    "plt.xlabel(\"Delta\")\n",
    "plt.ylabel(\"Frequency\")\n",
    "plt.show()"
   ]
  },
  {
   "cell_type": "code",
   "execution_count": 15,
   "metadata": {},
   "outputs": [
    {
     "name": "stdout",
     "output_type": "stream",
     "text": [
      "8.09000000000005\n",
      "0.6449171200645819\n",
      "-0.8800000000000006\n"
     ]
    },
    {
     "data": {
      "text/plain": [
       "eps                      0.644917\n",
       "eps_t                    0.649918\n",
       "actual.eps               0.651732\n",
       "estimize.eps.weighted    0.638151\n",
       "estimize.eps.sd          0.040724\n",
       "eps_tw                   0.644391\n",
       "eps_error                0.080356\n",
       "eps_t_error              0.071831\n",
       "eps_tw_error             0.072470\n",
       "eps_w_error              0.069623\n",
       "dtype: float64"
      ]
     },
     "metadata": {},
     "output_type": "display_data"
    },
    {
     "data": {
      "text/plain": [
       "release_id         77955.436344\n",
       "eps_error              1.974674\n",
       "eps_w_error            1.775527\n",
       "eps_t_error            1.810043\n",
       "eps_tw_error           1.827056\n",
       "estimize.eps.sd        0.040724\n",
       "dtype: float64"
      ]
     },
     "metadata": {},
     "output_type": "display_data"
    },
    {
     "name": "stdout",
     "output_type": "stream",
     "text": [
      "eps                      0.644917\n",
      "eps_t                    0.649918\n",
      "actual.eps               0.651732\n",
      "estimize.eps.weighted    0.638151\n",
      "estimize.eps.sd          0.040724\n",
      "eps_tw                   0.644391\n",
      "eps_error                0.080356\n",
      "eps_t_error              0.071831\n",
      "eps_tw_error             0.072470\n",
      "eps_w_error              0.069623\n",
      "am_win                   0.381413\n",
      "at_win                   0.612381\n",
      "bm_win                   0.387660\n",
      "bw_win                   0.607786\n",
      "ct_win                   0.476484\n",
      "cw_win                   0.519083\n",
      "dtw_win                  0.450691\n",
      "dw_win                   0.545359\n",
      "dtype: float64\n"
     ]
    }
   ],
   "source": [
    "tdf = df[['release_id', 'prediction', 'eps', 'estimize.eps.sd', 'actual.eps', 'estimize.eps.weighted']].copy()\n",
    "tdf['eps_delta_t'] = tdf['prediction'] * tdf['estimize.eps.sd']\n",
    "tdf['eps_t'] = tdf['eps'] - tdf['eps_delta_t']\n",
    "# display(tdf)\n",
    "\n",
    "adf = tdf.groupby('release_id')['eps', 'eps_t', 'actual.eps', 'estimize.eps.weighted', 'estimize.eps.sd'].mean()\n",
    "adf['eps_tw'] = (adf['eps_t'] + adf['eps'] + adf['estimize.eps.weighted']) / 3\n",
    "# adf = adf.round(2)\n",
    "# display(adf)\n",
    "adf['eps_error'] = mstats.winsorize(np.abs(adf['actual.eps'] - adf['eps']), limits=[0.05, 0.05])\n",
    "adf['eps_t_error'] = mstats.winsorize(np.abs(adf['actual.eps'] - adf['eps_t']), limits=[0.05, 0.05])\n",
    "adf['eps_tw_error'] = mstats.winsorize(np.abs(adf['actual.eps'] - adf['eps_tw']), limits=[0.05, 0.05])\n",
    "adf['eps_w_error'] = mstats.winsorize(np.abs(adf['actual.eps'] - adf['estimize.eps.weighted']), limits=[0.05, 0.05])\n",
    "print(adf.eps.max())\n",
    "print(adf.eps.mean())\n",
    "print(adf.eps.min())\n",
    "display(adf.mean())\n",
    "\n",
    "nedf = adf[['eps_error', 'eps_w_error', 'eps_t_error', 'eps_tw_error', 'estimize.eps.sd']].copy()\n",
    "nedf.reset_index(inplace=True)\n",
    "nedf['eps_error'] = nedf['eps_error'] / (nedf['estimize.eps.sd'] + 0.01)\n",
    "nedf['eps_w_error'] = nedf['eps_w_error'] / (nedf['estimize.eps.sd'] + 0.01)\n",
    "nedf['eps_t_error'] = nedf['eps_t_error'] / (nedf['estimize.eps.sd'] + 0.01)\n",
    "nedf['eps_tw_error'] = nedf['eps_tw_error'] / (nedf['estimize.eps.sd'] + 0.01)\n",
    "nedf.dropna(inplace=True)\n",
    "nedf = nedf.mean()\n",
    "display(nedf)\n",
    "\n",
    "# display(adf)\n",
    "\n",
    "adf['am_win'] = adf['eps_error'] < adf['eps_t_error']\n",
    "adf['at_win'] = adf['eps_error'] > adf['eps_t_error']\n",
    "\n",
    "adf['bm_win'] = adf['eps_error'] < adf['eps_w_error']\n",
    "adf['bw_win'] = adf['eps_error'] > adf['eps_w_error']\n",
    "\n",
    "adf['ct_win'] = adf['eps_t_error'] < adf['eps_w_error']\n",
    "adf['cw_win'] = adf['eps_t_error'] > adf['eps_w_error']\n",
    "\n",
    "adf['dtw_win'] = adf['eps_tw_error'] < adf['eps_w_error']\n",
    "adf['dw_win'] = adf['eps_tw_error'] > adf['eps_w_error']\n",
    "\n",
    "print(adf.mean())\n"
   ]
  },
  {
   "cell_type": "code",
   "execution_count": 68,
   "metadata": {},
   "outputs": [
    {
     "name": "stdout",
     "output_type": "stream",
     "text": [
      "200186\n",
      "train:  160148\n",
      "test:  40038\n",
      "train score:  0.42276488966706816\n",
      "test score:  0.42303757116630375\n"
     ]
    }
   ],
   "source": [
    "import sklearn.neural_network as nn\n",
    "from sklearn.preprocessing import StandardScaler  \n",
    "scaler = StandardScaler()\n",
    "\n",
    "df = odf.copy()\n",
    "print(len(df))\n",
    "\n",
    "df['error_z_score_p'] = (df['error_z_score'] > 0) * 1.0\n",
    "df['error_z_score_0'] = (df['error_z_score'] == 0) * 1.0\n",
    "df['error_z_score_n'] = (df['error_z_score'] < 0) * 1.0\n",
    "df['eps_z_score_2'] = df['eps_z_score'] * df['eps_z_score']\n",
    "\n",
    "# model_columns = ['eps_z_score'] # R2 = ?%\n",
    "# model_columns = ['eps_z_score', 'eps_z_score_2'] # R2 = ?%\n",
    "# model_columns = ['error_delta_user', 'eps_z_score', 'eps_z_score_2'] # R2 = ?%\n",
    "# model_columns = ['error_z_score_asset', 'eps_z_score_2', 'eps_z_score', 'error_z_score_user'] # R2 = 40.0%\n",
    "model_columns = ['ttr', 'error_z_score_sector', 'error_z_score_industry', 'error_z_score_asset', 'error_z_score_user', 'eps_z_score_2', 'eps_z_score'] # R2 = ?%\n",
    "\n",
    "# value_columns = ['error_z_score_p', 'error_z_score_n']\n",
    "value_column = 'error_z_score'\n",
    "\n",
    "train, test = np.split(df.sample(frac=1), [int(.8*len(df))])\n",
    "print('train: ', len(train))\n",
    "print('test: ', len(test))\n",
    "\n",
    "X_train = train[model_columns]\n",
    "scaler.fit(X_train)\n",
    "X_train = scaler.transform(X_train)\n",
    "y_train = train[value_column]\n",
    "\n",
    "model = nn.MLPRegressor(\n",
    "    hidden_layer_sizes=(8, 4),\n",
    "    activation='tanh',\n",
    "    solver='lbfgs',\n",
    "    max_iter=1000,\n",
    "    verbose=True\n",
    ")\n",
    "\n",
    "results = model.fit(X_train, y_train)\n",
    "\n",
    "score_train = results.score(X_train, y_train)\n",
    "print('train score: ', score_train)\n",
    "\n",
    "# Test\n",
    "X_test = test[model_columns]\n",
    "X_test = scaler.transform(X_test)\n",
    "y_test = test[value_column]\n",
    "\n",
    "score_test = results.score(X_test, y_test)\n",
    "print('test score: ', score_test)\n"
   ]
  },
  {
   "cell_type": "code",
   "execution_count": 69,
   "metadata": {},
   "outputs": [
    {
     "data": {
      "image/png": "[encoded data removed]",
      "text/plain": [
       "<matplotlib.figure.Figure at 0x118e01668>"
      ]
     },
     "metadata": {},
     "output_type": "display_data"
    }
   ],
   "source": [
    "train['prediction'] = model.predict(X_train)\n",
    "\n",
    "bins = np.linspace(-6, 6, 100)\n",
    "\n",
    "plt.hist(train['error_z_score'], bins, alpha=0.90)\n",
    "plt.hist(train['prediction'], bins, color='red', alpha=0.64)\n",
    "plt.title(\"Error Delta\")\n",
    "plt.xlabel(\"Delta\")\n",
    "plt.ylabel(\"Frequency\")\n",
    "plt.show()"
   ]
  },
  {
   "cell_type": "code",
   "execution_count": 81,
   "metadata": {},
   "outputs": [
    {
     "name": "stdout",
     "output_type": "stream",
     "text": [
      "523749\n",
      "-0.88\n",
      "0.9022658443937114\n",
      "8.09\n"
     ]
    }
   ],
   "source": [
    "start_date = '2012-01-01'\n",
    "end_date = '2018-01-01'\n",
    "\n",
    "odf = get_observations(start_date, end_date, direction=None)\n",
    "print(len(odf))\n",
    "print(odf.eps.min())\n",
    "print(odf.eps.mean())\n",
    "print(odf.eps.max())"
   ]
  },
  {
   "cell_type": "code",
   "execution_count": 84,
   "metadata": {},
   "outputs": [
    {
     "name": "stdout",
     "output_type": "stream",
     "text": [
      "523749\n",
      "train:  418999\n",
      "test:  104750\n",
      "train score:  0.4235300215846998\n",
      "test score:  0.41970968741132264\n"
     ]
    }
   ],
   "source": [
    "import sklearn.neural_network as nn\n",
    "from sklearn.preprocessing import StandardScaler  \n",
    "scaler = StandardScaler()\n",
    "\n",
    "df = odf.copy()\n",
    "print(len(df))\n",
    "\n",
    "df['error_z_score_p'] = (df['error_z_score'] > 0) * 1.0\n",
    "df['error_z_score_0'] = (df['error_z_score'] == 0) * 1.0\n",
    "df['error_z_score_n'] = (df['error_z_score'] < 0) * 1.0\n",
    "df['eps_z_score_2'] = df['eps_z_score'] * df['eps_z_score']\n",
    "\n",
    "# model_columns = ['eps_z_score'] # R2 = ?%\n",
    "# model_columns = ['eps_z_score', 'eps_z_score_2'] # R2 = ?%\n",
    "# model_columns = ['error_delta_user', 'eps_z_score', 'eps_z_score_2'] # R2 = ?%\n",
    "# model_columns = ['error_z_score_asset', 'eps_z_score_2', 'eps_z_score', 'error_z_score_user'] # R2 = 40.0%\n",
    "model_columns = ['ttr', 'error_z_score_sector', 'error_z_score_industry', 'error_z_score_asset', 'error_z_score_user', 'eps_z_score_2', 'eps_z_score'] # R2 = ?%\n",
    "\n",
    "# value_columns = ['error_z_score_p', 'error_z_score_n']\n",
    "value_column = 'error_z_score'\n",
    "\n",
    "train, test = np.split(df.sample(frac=1), [int(.8*len(df))])\n",
    "print('train: ', len(train))\n",
    "print('test: ', len(test))\n",
    "\n",
    "X_train = train[model_columns]\n",
    "scaler.fit(X_train)\n",
    "X_train = scaler.transform(X_train)\n",
    "y_train = train[value_column]\n",
    "\n",
    "model = nn.MLPRegressor(\n",
    "    hidden_layer_sizes=(12, 6, 3),\n",
    "    activation='tanh',\n",
    "    solver='lbfgs',\n",
    "    max_iter=4000,\n",
    "    verbose=True\n",
    ")\n",
    "\n",
    "results = model.fit(X_train, y_train)\n",
    "\n",
    "score_train = results.score(X_train, y_train)\n",
    "print('train score: ', score_train)\n",
    "\n",
    "# Test\n",
    "X_test = test[model_columns]\n",
    "X_test = scaler.transform(X_test)\n",
    "y_test = test[value_column]\n",
    "\n",
    "score_test = results.score(X_test, y_test)\n",
    "print('test score: ', score_test)\n"
   ]
  },
  {
   "cell_type": "code",
   "execution_count": 86,
   "metadata": {
    "scrolled": true
   },
   "outputs": [
    {
     "data": {
      "image/png": "[encoded data removed]",
      "text/plain": [
       "<matplotlib.figure.Figure at 0x1198e8518>"
      ]
     },
     "metadata": {},
     "output_type": "display_data"
    }
   ],
   "source": [
    "train['prediction'] = model.predict(X_train)\n",
    "\n",
    "bins = np.linspace(-6, 6, 100)\n",
    "\n",
    "plt.hist(train['error_z_score'], bins, alpha=0.90)\n",
    "plt.hist(train['prediction'], bins, color='red', alpha=0.64)\n",
    "plt.title(\"Error Delta\")\n",
    "plt.xlabel(\"Delta\")\n",
    "plt.ylabel(\"Frequency\")\n",
    "plt.show()"
   ]
  },
  {
   "cell_type": "code",
   "execution_count": null,
   "metadata": {},
   "outputs": [],
   "source": []
  }
 ],
 "metadata": {
  "kernelspec": {
   "display_name": "Python 3",
   "language": "python",
   "name": "python3"
  },
  "language_info": {
   "codemirror_mode": {
    "name": "ipython",
    "version": 3
   },
   "file_extension": ".py",
   "mimetype": "text/x-python",
   "name": "python",
   "nbconvert_exporter": "python",
   "pygments_lexer": "ipython3",
   "version": "3.5.0"
  }
 },
 "nbformat": 4,
 "nbformat_minor": 1
}
