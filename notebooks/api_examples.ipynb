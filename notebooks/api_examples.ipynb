{
 "cells": [
  {
   "cell_type": "code",
   "execution_count": 12,
   "metadata": {},
   "outputs": [],
   "source": [
    "# Imports\n",
    "\n",
    "from injector import Injector\n",
    "import logging.config\n",
    "import os\n",
    "import sys\n",
    "\n",
    "module_path = os.path.abspath(os.path.join('..'))\n",
    "\n",
    "if module_path not in sys.path:\n",
    "    sys.path.append(module_path)\n",
    "\n",
    "from estimize.di.default_module import DefaultModule\n",
    "    \n",
    "injector = Injector([DefaultModule])"
   ]
  },
  {
   "cell_type": "markdown",
   "metadata": {},
   "source": [
    "# Asset Info Service"
   ]
  },
  {
   "cell_type": "code",
   "execution_count": 13,
   "metadata": {},
   "outputs": [
    {
     "name": "stdout",
     "output_type": "stream",
     "text": [
      "Num Assets:  2190\n"
     ]
    },
    {
     "data": {
      "text/html": [
       "<div>\n",
       "<table border=\"1\" class=\"dataframe\">\n",
       "  <thead>\n",
       "    <tr style=\"text-align: right;\">\n",
       "      <th></th>\n",
       "      <th>instrument_id</th>\n",
       "      <th>cusip</th>\n",
       "      <th>name</th>\n",
       "      <th>sector</th>\n",
       "      <th>industry</th>\n",
       "    </tr>\n",
       "    <tr>\n",
       "      <th>asset</th>\n",
       "      <th></th>\n",
       "      <th></th>\n",
       "      <th></th>\n",
       "      <th></th>\n",
       "      <th></th>\n",
       "    </tr>\n",
       "  </thead>\n",
       "  <tbody>\n",
       "    <tr>\n",
       "      <th>Equity(0 [A])</th>\n",
       "      <td>1384</td>\n",
       "      <td>00846U101</td>\n",
       "      <td>Agilent Technologies Inc.</td>\n",
       "      <td>Health Care</td>\n",
       "      <td>Life Sciences Tools &amp; Services</td>\n",
       "    </tr>\n",
       "    <tr>\n",
       "      <th>Equity(1 [AA])</th>\n",
       "      <td>2951</td>\n",
       "      <td>013872106</td>\n",
       "      <td>Alcoa Corp.</td>\n",
       "      <td>Materials</td>\n",
       "      <td>Metals &amp; Mining</td>\n",
       "    </tr>\n",
       "    <tr>\n",
       "      <th>Equity(2 [AAL])</th>\n",
       "      <td>1670</td>\n",
       "      <td>02376R102</td>\n",
       "      <td>American Airlines Group Inc.</td>\n",
       "      <td>Industrials</td>\n",
       "      <td>Airlines</td>\n",
       "    </tr>\n",
       "    <tr>\n",
       "      <th>Equity(4 [AAN])</th>\n",
       "      <td>492</td>\n",
       "      <td>002535300</td>\n",
       "      <td>Aaron's, Inc.</td>\n",
       "      <td>Consumer Discretionary</td>\n",
       "      <td>Specialty Retail</td>\n",
       "    </tr>\n",
       "    <tr>\n",
       "      <th>Equity(5 [AAOI])</th>\n",
       "      <td>2521</td>\n",
       "      <td>03823U102</td>\n",
       "      <td>Applied Optoelectronics, Inc.</td>\n",
       "      <td>Information Technology</td>\n",
       "      <td>Communications Equipment</td>\n",
       "    </tr>\n",
       "  </tbody>\n",
       "</table>\n",
       "</div>"
      ],
      "text/plain": [
       "                  instrument_id      cusip                           name  \\\n",
       "asset                                                                       \n",
       "Equity(0 [A])              1384  00846U101      Agilent Technologies Inc.   \n",
       "Equity(1 [AA])             2951  013872106                    Alcoa Corp.   \n",
       "Equity(2 [AAL])            1670  02376R102   American Airlines Group Inc.   \n",
       "Equity(4 [AAN])             492  002535300                  Aaron's, Inc.   \n",
       "Equity(5 [AAOI])           2521  03823U102  Applied Optoelectronics, Inc.   \n",
       "\n",
       "                                  sector                        industry  \n",
       "asset                                                                     \n",
       "Equity(0 [A])                Health Care  Life Sciences Tools & Services  \n",
       "Equity(1 [AA])                 Materials                 Metals & Mining  \n",
       "Equity(2 [AAL])              Industrials                        Airlines  \n",
       "Equity(4 [AAN])   Consumer Discretionary                Specialty Retail  \n",
       "Equity(5 [AAOI])  Information Technology        Communications Equipment  "
      ]
     },
     "metadata": {},
     "output_type": "display_data"
    }
   ],
   "source": [
    "from estimize.services import AssetInfoService\n",
    "\n",
    "asset_info_service = injector.get(AssetInfoService)\n",
    "\n",
    "aidf = asset_info_service.get_asset_info()\n",
    "print('Num Assets: ', len(aidf))\n",
    "display(aidf.head(5))"
   ]
  },
  {
   "cell_type": "markdown",
   "metadata": {},
   "source": [
    "# Asset Service"
   ]
  },
  {
   "cell_type": "code",
   "execution_count": 14,
   "metadata": {},
   "outputs": [],
   "source": [
    "from estimize.services import AssetService\n",
    "\n",
    "asset_service = injector.get(AssetService)"
   ]
  },
  {
   "cell_type": "markdown",
   "metadata": {},
   "source": [
    "## get_asset"
   ]
  },
  {
   "cell_type": "code",
   "execution_count": 15,
   "metadata": {},
   "outputs": [
    {
     "data": {
      "text/plain": [
       "Equity(8 [AAPL])"
      ]
     },
     "metadata": {},
     "output_type": "display_data"
    }
   ],
   "source": [
    "ticker = 'AAPL'\n",
    "asset = asset_service.get_asset(ticker)\n",
    "display(asset)"
   ]
  },
  {
   "cell_type": "markdown",
   "metadata": {},
   "source": [
    "## get_assets"
   ]
  },
  {
   "cell_type": "code",
   "execution_count": 16,
   "metadata": {},
   "outputs": [
    {
     "data": {
      "text/plain": [
       "[Equity(8 [AAPL]), Equity(1894 [MSFT]), Equity(167 [AMZN])]"
      ]
     },
     "metadata": {},
     "output_type": "display_data"
    }
   ],
   "source": [
    "tickers = ['AAPL', 'MSFT', 'AMZN']\n",
    "assets = asset_service.get_assets(tickers)\n",
    "display(assets)"
   ]
  },
  {
   "cell_type": "markdown",
   "metadata": {},
   "source": [
    "## get_moving_average"
   ]
  },
  {
   "cell_type": "code",
   "execution_count": 35,
   "metadata": {},
   "outputs": [
    {
     "data": {
      "text/html": [
       "<div>\n",
       "<table border=\"1\" class=\"dataframe\">\n",
       "  <thead>\n",
       "    <tr style=\"text-align: right;\">\n",
       "      <th></th>\n",
       "      <th></th>\n",
       "      <th>moving_average</th>\n",
       "    </tr>\n",
       "    <tr>\n",
       "      <th>as_of_date</th>\n",
       "      <th>asset</th>\n",
       "      <th></th>\n",
       "    </tr>\n",
       "  </thead>\n",
       "  <tbody>\n",
       "    <tr>\n",
       "      <th rowspan=\"2\" valign=\"top\">2018-03-23</th>\n",
       "      <th>Equity(167 [AMZN])</th>\n",
       "      <td>1402.766349</td>\n",
       "    </tr>\n",
       "    <tr>\n",
       "      <th>Equity(1894 [MSFT])</th>\n",
       "      <td>90.932698</td>\n",
       "    </tr>\n",
       "    <tr>\n",
       "      <th rowspan=\"3\" valign=\"top\">2018-03-26</th>\n",
       "      <th>Equity(8 [AAPL])</th>\n",
       "      <td>172.354127</td>\n",
       "    </tr>\n",
       "    <tr>\n",
       "      <th>Equity(167 [AMZN])</th>\n",
       "      <td>1408.815556</td>\n",
       "    </tr>\n",
       "    <tr>\n",
       "      <th>Equity(1894 [MSFT])</th>\n",
       "      <td>91.064127</td>\n",
       "    </tr>\n",
       "  </tbody>\n",
       "</table>\n",
       "</div>"
      ],
      "text/plain": [
       "                                moving_average\n",
       "as_of_date asset                              \n",
       "2018-03-23 Equity(167 [AMZN])      1402.766349\n",
       "           Equity(1894 [MSFT])       90.932698\n",
       "2018-03-26 Equity(8 [AAPL])         172.354127\n",
       "           Equity(167 [AMZN])      1408.815556\n",
       "           Equity(1894 [MSFT])       91.064127"
      ]
     },
     "metadata": {},
     "output_type": "display_data"
    }
   ],
   "source": [
    "start_date = '2017-01-01'\n",
    "end_date = '2018-04-01'\n",
    "assets = asset_service.get_assets(tickers)\n",
    "madf = asset_service.get_moving_average(start_date, end_date, assets)\n",
    "display(madf.tail(5))"
   ]
  },
  {
   "cell_type": "markdown",
   "metadata": {},
   "source": [
    "## get_returns"
   ]
  },
  {
   "cell_type": "code",
   "execution_count": 18,
   "metadata": {},
   "outputs": [
    {
     "data": {
      "text/html": [
       "<div>\n",
       "<table border=\"1\" class=\"dataframe\">\n",
       "  <thead>\n",
       "    <tr style=\"text-align: right;\">\n",
       "      <th></th>\n",
       "      <th></th>\n",
       "      <th>close_return</th>\n",
       "      <th>inter_day_return</th>\n",
       "      <th>intra_day_return</th>\n",
       "      <th>open_return</th>\n",
       "    </tr>\n",
       "    <tr>\n",
       "      <th>as_of_date</th>\n",
       "      <th>asset</th>\n",
       "      <th></th>\n",
       "      <th></th>\n",
       "      <th></th>\n",
       "      <th></th>\n",
       "    </tr>\n",
       "  </thead>\n",
       "  <tbody>\n",
       "    <tr>\n",
       "      <th rowspan=\"3\" valign=\"top\">2010-09-29</th>\n",
       "      <th>Equity(8 [AAPL])</th>\n",
       "      <td>0.001778</td>\n",
       "      <td>0.001290</td>\n",
       "      <td>0.000487</td>\n",
       "      <td>0.006162</td>\n",
       "    </tr>\n",
       "    <tr>\n",
       "      <th>Equity(167 [AMZN])</th>\n",
       "      <td>-0.004446</td>\n",
       "      <td>-0.004195</td>\n",
       "      <td>-0.000252</td>\n",
       "      <td>0.006162</td>\n",
       "    </tr>\n",
       "    <tr>\n",
       "      <th>Equity(1894 [MSFT])</th>\n",
       "      <td>-0.007173</td>\n",
       "      <td>-0.001905</td>\n",
       "      <td>-0.005278</td>\n",
       "      <td>-0.000812</td>\n",
       "    </tr>\n",
       "  </tbody>\n",
       "</table>\n",
       "</div>"
      ],
      "text/plain": [
       "                                close_return  inter_day_return  \\\n",
       "as_of_date asset                                                 \n",
       "2010-09-29 Equity(8 [AAPL])         0.001778          0.001290   \n",
       "           Equity(167 [AMZN])      -0.004446         -0.004195   \n",
       "           Equity(1894 [MSFT])     -0.007173         -0.001905   \n",
       "\n",
       "                                intra_day_return  open_return  \n",
       "as_of_date asset                                               \n",
       "2010-09-29 Equity(8 [AAPL])             0.000487     0.006162  \n",
       "           Equity(167 [AMZN])          -0.000252     0.006162  \n",
       "           Equity(1894 [MSFT])         -0.005278    -0.000812  "
      ]
     },
     "metadata": {},
     "output_type": "display_data"
    }
   ],
   "source": [
    "rdf = asset_service.get_returns(start_date, end_date, assets)\n",
    "display(rdf.head(5))"
   ]
  },
  {
   "cell_type": "markdown",
   "metadata": {},
   "source": [
    "## get_universe"
   ]
  },
  {
   "cell_type": "code",
   "execution_count": 33,
   "metadata": {},
   "outputs": [
    {
     "data": {
      "text/html": [
       "<div>\n",
       "<table border=\"1\" class=\"dataframe\">\n",
       "  <thead>\n",
       "    <tr style=\"text-align: right;\">\n",
       "      <th></th>\n",
       "      <th></th>\n",
       "    </tr>\n",
       "    <tr>\n",
       "      <th>as_of_date</th>\n",
       "      <th>asset</th>\n",
       "    </tr>\n",
       "  </thead>\n",
       "  <tbody>\n",
       "    <tr>\n",
       "      <th rowspan=\"2\" valign=\"top\">2013-01-30</th>\n",
       "      <th>Equity(167 [AMZN])</th>\n",
       "    </tr>\n",
       "    <tr>\n",
       "      <th>Equity(1894 [MSFT])</th>\n",
       "    </tr>\n",
       "    <tr>\n",
       "      <th rowspan=\"3\" valign=\"top\">2013-01-31</th>\n",
       "      <th>Equity(8 [AAPL])</th>\n",
       "    </tr>\n",
       "    <tr>\n",
       "      <th>Equity(167 [AMZN])</th>\n",
       "    </tr>\n",
       "    <tr>\n",
       "      <th>Equity(1894 [MSFT])</th>\n",
       "    </tr>\n",
       "  </tbody>\n",
       "</table>\n",
       "</div>"
      ],
      "text/plain": [
       "Empty DataFrame\n",
       "Columns: []\n",
       "Index: [(2013-01-30 00:00:00, Equity(167 [AMZN])), (2013-01-30 00:00:00, Equity(1894 [MSFT])), (2013-01-31 00:00:00, Equity(8 [AAPL])), (2013-01-31 00:00:00, Equity(167 [AMZN])), (2013-01-31 00:00:00, Equity(1894 [MSFT]))]"
      ]
     },
     "metadata": {},
     "output_type": "display_data"
    }
   ],
   "source": [
    "udf = asset_service.get_universe(start_date, end_date, assets)\n",
    "display(udf.tail(5))"
   ]
  },
  {
   "cell_type": "markdown",
   "metadata": {},
   "source": [
    "# Estimize Consensus Service"
   ]
  },
  {
   "cell_type": "code",
   "execution_count": 20,
   "metadata": {},
   "outputs": [],
   "source": [
    "from estimize.services import EstimizeConsensusService\n",
    "\n",
    "estimize_consensus_service = injector.get(EstimizeConsensusService)"
   ]
  },
  {
   "cell_type": "markdown",
   "metadata": {},
   "source": [
    "## get_consensuses"
   ]
  },
  {
   "cell_type": "code",
   "execution_count": 32,
   "metadata": {},
   "outputs": [
    {
     "name": "stdout",
     "output_type": "stream",
     "text": [
      "Num Rows:  9494\n"
     ]
    },
    {
     "data": {
      "text/html": [
       "<div>\n",
       "<table border=\"1\" class=\"dataframe\">\n",
       "  <thead>\n",
       "    <tr style=\"text-align: right;\">\n",
       "      <th></th>\n",
       "      <th></th>\n",
       "      <th>fiscal_year</th>\n",
       "      <th>fiscal_quarter</th>\n",
       "      <th>reports_at_date</th>\n",
       "      <th>bmo</th>\n",
       "      <th>estimize.eps.weighted</th>\n",
       "      <th>estimize.eps.mean</th>\n",
       "      <th>estimize.eps.high</th>\n",
       "      <th>estimize.eps.low</th>\n",
       "      <th>estimize.eps.sd</th>\n",
       "      <th>estimize.eps.count</th>\n",
       "      <th>estimize.revenue.weighted</th>\n",
       "      <th>estimize.revenue.mean</th>\n",
       "      <th>estimize.revenue.high</th>\n",
       "      <th>estimize.revenue.low</th>\n",
       "      <th>estimize.revenue.sd</th>\n",
       "      <th>estimize.revenue.count</th>\n",
       "      <th>wallstreet.eps</th>\n",
       "      <th>wallstreet.revenue</th>\n",
       "      <th>actual.eps</th>\n",
       "      <th>actual.revenue</th>\n",
       "    </tr>\n",
       "    <tr>\n",
       "      <th>as_of_date</th>\n",
       "      <th>asset</th>\n",
       "      <th></th>\n",
       "      <th></th>\n",
       "      <th></th>\n",
       "      <th></th>\n",
       "      <th></th>\n",
       "      <th></th>\n",
       "      <th></th>\n",
       "      <th></th>\n",
       "      <th></th>\n",
       "      <th></th>\n",
       "      <th></th>\n",
       "      <th></th>\n",
       "      <th></th>\n",
       "      <th></th>\n",
       "      <th></th>\n",
       "      <th></th>\n",
       "      <th></th>\n",
       "      <th></th>\n",
       "      <th></th>\n",
       "      <th></th>\n",
       "    </tr>\n",
       "  </thead>\n",
       "  <tbody>\n",
       "    <tr>\n",
       "      <th>2018-03-30</th>\n",
       "      <th>Equity(8 [AAPL])</th>\n",
       "      <td>2018</td>\n",
       "      <td>3</td>\n",
       "      <td>2018-07-31</td>\n",
       "      <td>False</td>\n",
       "      <td>2.215888</td>\n",
       "      <td>2.181351</td>\n",
       "      <td>2.44</td>\n",
       "      <td>1.87</td>\n",
       "      <td>0.094738</td>\n",
       "      <td>148</td>\n",
       "      <td>52527.156298</td>\n",
       "      <td>53784.387755</td>\n",
       "      <td>57763.0</td>\n",
       "      <td>50000.0</td>\n",
       "      <td>1259.361924</td>\n",
       "      <td>147</td>\n",
       "      <td>2.168</td>\n",
       "      <td>51744.281</td>\n",
       "      <td>NaN</td>\n",
       "      <td>NaN</td>\n",
       "    </tr>\n",
       "    <tr>\n",
       "      <th rowspan=\"4\" valign=\"top\">2018-03-31</th>\n",
       "      <th>Equity(8 [AAPL])</th>\n",
       "      <td>2018</td>\n",
       "      <td>2</td>\n",
       "      <td>2018-05-01</td>\n",
       "      <td>False</td>\n",
       "      <td>2.735019</td>\n",
       "      <td>2.755100</td>\n",
       "      <td>3.26</td>\n",
       "      <td>2.09</td>\n",
       "      <td>0.154888</td>\n",
       "      <td>300</td>\n",
       "      <td>61776.561862</td>\n",
       "      <td>63721.170569</td>\n",
       "      <td>70976.0</td>\n",
       "      <td>54765.0</td>\n",
       "      <td>2614.671414</td>\n",
       "      <td>299</td>\n",
       "      <td>2.709</td>\n",
       "      <td>61416.025</td>\n",
       "      <td>NaN</td>\n",
       "      <td>NaN</td>\n",
       "    </tr>\n",
       "    <tr>\n",
       "      <th>Equity(8 [AAPL])</th>\n",
       "      <td>2018</td>\n",
       "      <td>3</td>\n",
       "      <td>2018-07-31</td>\n",
       "      <td>False</td>\n",
       "      <td>2.215888</td>\n",
       "      <td>2.181351</td>\n",
       "      <td>2.44</td>\n",
       "      <td>1.87</td>\n",
       "      <td>0.094738</td>\n",
       "      <td>148</td>\n",
       "      <td>52527.156298</td>\n",
       "      <td>53784.387755</td>\n",
       "      <td>57763.0</td>\n",
       "      <td>50000.0</td>\n",
       "      <td>1259.361924</td>\n",
       "      <td>147</td>\n",
       "      <td>2.168</td>\n",
       "      <td>51744.281</td>\n",
       "      <td>NaN</td>\n",
       "      <td>NaN</td>\n",
       "    </tr>\n",
       "    <tr>\n",
       "      <th>Equity(8 [AAPL])</th>\n",
       "      <td>2019</td>\n",
       "      <td>1</td>\n",
       "      <td>2019-01-31</td>\n",
       "      <td>False</td>\n",
       "      <td>4.588470</td>\n",
       "      <td>4.474400</td>\n",
       "      <td>4.64</td>\n",
       "      <td>3.86</td>\n",
       "      <td>0.209210</td>\n",
       "      <td>25</td>\n",
       "      <td>86068.692565</td>\n",
       "      <td>85673.384615</td>\n",
       "      <td>92973.0</td>\n",
       "      <td>83479.0</td>\n",
       "      <td>2106.035595</td>\n",
       "      <td>26</td>\n",
       "      <td>4.530</td>\n",
       "      <td>85214.250</td>\n",
       "      <td>NaN</td>\n",
       "      <td>NaN</td>\n",
       "    </tr>\n",
       "    <tr>\n",
       "      <th>Equity(8 [AAPL])</th>\n",
       "      <td>2018</td>\n",
       "      <td>4</td>\n",
       "      <td>2018-11-01</td>\n",
       "      <td>False</td>\n",
       "      <td>2.647359</td>\n",
       "      <td>2.457212</td>\n",
       "      <td>3.00</td>\n",
       "      <td>1.97</td>\n",
       "      <td>0.144005</td>\n",
       "      <td>104</td>\n",
       "      <td>59126.584523</td>\n",
       "      <td>57735.252427</td>\n",
       "      <td>61783.0</td>\n",
       "      <td>54000.0</td>\n",
       "      <td>1229.675683</td>\n",
       "      <td>103</td>\n",
       "      <td>2.592</td>\n",
       "      <td>58177.337</td>\n",
       "      <td>NaN</td>\n",
       "      <td>NaN</td>\n",
       "    </tr>\n",
       "  </tbody>\n",
       "</table>\n",
       "</div>"
      ],
      "text/plain": [
       "                             fiscal_year  fiscal_quarter reports_at_date  \\\n",
       "as_of_date asset                                                           \n",
       "2018-03-30 Equity(8 [AAPL])         2018               3      2018-07-31   \n",
       "2018-03-31 Equity(8 [AAPL])         2018               2      2018-05-01   \n",
       "           Equity(8 [AAPL])         2018               3      2018-07-31   \n",
       "           Equity(8 [AAPL])         2019               1      2019-01-31   \n",
       "           Equity(8 [AAPL])         2018               4      2018-11-01   \n",
       "\n",
       "                               bmo  estimize.eps.weighted  estimize.eps.mean  \\\n",
       "as_of_date asset                                                               \n",
       "2018-03-30 Equity(8 [AAPL])  False               2.215888           2.181351   \n",
       "2018-03-31 Equity(8 [AAPL])  False               2.735019           2.755100   \n",
       "           Equity(8 [AAPL])  False               2.215888           2.181351   \n",
       "           Equity(8 [AAPL])  False               4.588470           4.474400   \n",
       "           Equity(8 [AAPL])  False               2.647359           2.457212   \n",
       "\n",
       "                             estimize.eps.high  estimize.eps.low  \\\n",
       "as_of_date asset                                                   \n",
       "2018-03-30 Equity(8 [AAPL])               2.44              1.87   \n",
       "2018-03-31 Equity(8 [AAPL])               3.26              2.09   \n",
       "           Equity(8 [AAPL])               2.44              1.87   \n",
       "           Equity(8 [AAPL])               4.64              3.86   \n",
       "           Equity(8 [AAPL])               3.00              1.97   \n",
       "\n",
       "                             estimize.eps.sd  estimize.eps.count  \\\n",
       "as_of_date asset                                                   \n",
       "2018-03-30 Equity(8 [AAPL])         0.094738                 148   \n",
       "2018-03-31 Equity(8 [AAPL])         0.154888                 300   \n",
       "           Equity(8 [AAPL])         0.094738                 148   \n",
       "           Equity(8 [AAPL])         0.209210                  25   \n",
       "           Equity(8 [AAPL])         0.144005                 104   \n",
       "\n",
       "                             estimize.revenue.weighted  estimize.revenue.mean  \\\n",
       "as_of_date asset                                                                \n",
       "2018-03-30 Equity(8 [AAPL])               52527.156298           53784.387755   \n",
       "2018-03-31 Equity(8 [AAPL])               61776.561862           63721.170569   \n",
       "           Equity(8 [AAPL])               52527.156298           53784.387755   \n",
       "           Equity(8 [AAPL])               86068.692565           85673.384615   \n",
       "           Equity(8 [AAPL])               59126.584523           57735.252427   \n",
       "\n",
       "                             estimize.revenue.high  estimize.revenue.low  \\\n",
       "as_of_date asset                                                           \n",
       "2018-03-30 Equity(8 [AAPL])                57763.0               50000.0   \n",
       "2018-03-31 Equity(8 [AAPL])                70976.0               54765.0   \n",
       "           Equity(8 [AAPL])                57763.0               50000.0   \n",
       "           Equity(8 [AAPL])                92973.0               83479.0   \n",
       "           Equity(8 [AAPL])                61783.0               54000.0   \n",
       "\n",
       "                             estimize.revenue.sd  estimize.revenue.count  \\\n",
       "as_of_date asset                                                           \n",
       "2018-03-30 Equity(8 [AAPL])          1259.361924                     147   \n",
       "2018-03-31 Equity(8 [AAPL])          2614.671414                     299   \n",
       "           Equity(8 [AAPL])          1259.361924                     147   \n",
       "           Equity(8 [AAPL])          2106.035595                      26   \n",
       "           Equity(8 [AAPL])          1229.675683                     103   \n",
       "\n",
       "                             wallstreet.eps  wallstreet.revenue  actual.eps  \\\n",
       "as_of_date asset                                                              \n",
       "2018-03-30 Equity(8 [AAPL])           2.168           51744.281         NaN   \n",
       "2018-03-31 Equity(8 [AAPL])           2.709           61416.025         NaN   \n",
       "           Equity(8 [AAPL])           2.168           51744.281         NaN   \n",
       "           Equity(8 [AAPL])           4.530           85214.250         NaN   \n",
       "           Equity(8 [AAPL])           2.592           58177.337         NaN   \n",
       "\n",
       "                             actual.revenue  \n",
       "as_of_date asset                             \n",
       "2018-03-30 Equity(8 [AAPL])             NaN  \n",
       "2018-03-31 Equity(8 [AAPL])             NaN  \n",
       "           Equity(8 [AAPL])             NaN  \n",
       "           Equity(8 [AAPL])             NaN  \n",
       "           Equity(8 [AAPL])             NaN  "
      ]
     },
     "metadata": {},
     "output_type": "display_data"
    }
   ],
   "source": [
    "asset = asset_service.get_asset('AAPL')\n",
    "ecdf = estimize_consensus_service.get_consensuses(assets=[asset])\n",
    "print('Num Rows: ', len(ecdf))\n",
    "display(ecdf.tail(5))"
   ]
  },
  {
   "cell_type": "markdown",
   "metadata": {},
   "source": [
    "# Market Cap Service"
   ]
  },
  {
   "cell_type": "code",
   "execution_count": 30,
   "metadata": {},
   "outputs": [
    {
     "data": {
      "text/html": [
       "<div>\n",
       "<table border=\"1\" class=\"dataframe\">\n",
       "  <thead>\n",
       "    <tr style=\"text-align: right;\">\n",
       "      <th></th>\n",
       "      <th></th>\n",
       "      <th>market_cap</th>\n",
       "      <th>market_cap_type</th>\n",
       "    </tr>\n",
       "    <tr>\n",
       "      <th>as_of_date</th>\n",
       "      <th>asset</th>\n",
       "      <th></th>\n",
       "      <th></th>\n",
       "    </tr>\n",
       "  </thead>\n",
       "  <tbody>\n",
       "    <tr>\n",
       "      <th rowspan=\"5\" valign=\"top\">2018-03-29</th>\n",
       "      <th>Equity(3194 [ZNGA])</th>\n",
       "      <td>3.569230e+09</td>\n",
       "      <td>Mid</td>\n",
       "    </tr>\n",
       "    <tr>\n",
       "      <th>Equity(3195 [ZOES])</th>\n",
       "      <td>3.124862e+08</td>\n",
       "      <td>Small</td>\n",
       "    </tr>\n",
       "    <tr>\n",
       "      <th>Equity(3196 [ZQK])</th>\n",
       "      <td>1.094056e+09</td>\n",
       "      <td>Small</td>\n",
       "    </tr>\n",
       "    <tr>\n",
       "      <th>Equity(3197 [ZTS])</th>\n",
       "      <td>3.522607e+10</td>\n",
       "      <td>Large</td>\n",
       "    </tr>\n",
       "    <tr>\n",
       "      <th>Equity(3198 [ZUMZ])</th>\n",
       "      <td>5.500264e+08</td>\n",
       "      <td>Small</td>\n",
       "    </tr>\n",
       "  </tbody>\n",
       "</table>\n",
       "</div>"
      ],
      "text/plain": [
       "                                  market_cap market_cap_type\n",
       "as_of_date asset                                            \n",
       "2018-03-29 Equity(3194 [ZNGA])  3.569230e+09             Mid\n",
       "           Equity(3195 [ZOES])  3.124862e+08           Small\n",
       "           Equity(3196 [ZQK])   1.094056e+09           Small\n",
       "           Equity(3197 [ZTS])   3.522607e+10           Large\n",
       "           Equity(3198 [ZUMZ])  5.500264e+08           Small"
      ]
     },
     "metadata": {},
     "output_type": "display_data"
    }
   ],
   "source": [
    "from estimize.services import MarketCapService\n",
    "\n",
    "market_cap_service = injector.get(MarketCapService)\n",
    "\n",
    "mcdf = market_cap_service.get_market_caps()\n",
    "display(mcdf.tail(5))"
   ]
  },
  {
   "cell_type": "markdown",
   "metadata": {},
   "source": [
    "# Factor Service"
   ]
  },
  {
   "cell_type": "code",
   "execution_count": 36,
   "metadata": {},
   "outputs": [],
   "source": [
    "from estimize.services import FactorService\n",
    "\n",
    "factor_service = injector.get(FactorService)"
   ]
  },
  {
   "cell_type": "code",
   "execution_count": 38,
   "metadata": {},
   "outputs": [
    {
     "data": {
      "text/html": [
       "<div>\n",
       "<table border=\"1\" class=\"dataframe\">\n",
       "  <thead>\n",
       "    <tr style=\"text-align: right;\">\n",
       "      <th></th>\n",
       "      <th></th>\n",
       "      <th>alpha</th>\n",
       "      <th>beta</th>\n",
       "    </tr>\n",
       "    <tr>\n",
       "      <th>as_of_date</th>\n",
       "      <th>asset</th>\n",
       "      <th></th>\n",
       "      <th></th>\n",
       "    </tr>\n",
       "  </thead>\n",
       "  <tbody>\n",
       "    <tr>\n",
       "      <th>2018-03-19</th>\n",
       "      <th>Equity(8 [AAPL])</th>\n",
       "      <td>-0.000007</td>\n",
       "      <td>1.038112</td>\n",
       "    </tr>\n",
       "    <tr>\n",
       "      <th>2018-03-20</th>\n",
       "      <th>Equity(8 [AAPL])</th>\n",
       "      <td>0.000039</td>\n",
       "      <td>1.037642</td>\n",
       "    </tr>\n",
       "    <tr>\n",
       "      <th>2018-03-21</th>\n",
       "      <th>Equity(8 [AAPL])</th>\n",
       "      <td>-0.000064</td>\n",
       "      <td>1.043301</td>\n",
       "    </tr>\n",
       "    <tr>\n",
       "      <th>2018-03-22</th>\n",
       "      <th>Equity(8 [AAPL])</th>\n",
       "      <td>-0.000065</td>\n",
       "      <td>1.014678</td>\n",
       "    </tr>\n",
       "    <tr>\n",
       "      <th>2018-03-23</th>\n",
       "      <th>Equity(8 [AAPL])</th>\n",
       "      <td>-0.000001</td>\n",
       "      <td>1.019975</td>\n",
       "    </tr>\n",
       "  </tbody>\n",
       "</table>\n",
       "</div>"
      ],
      "text/plain": [
       "                                alpha      beta\n",
       "as_of_date asset                               \n",
       "2018-03-19 Equity(8 [AAPL]) -0.000007  1.038112\n",
       "2018-03-20 Equity(8 [AAPL])  0.000039  1.037642\n",
       "2018-03-21 Equity(8 [AAPL]) -0.000064  1.043301\n",
       "2018-03-22 Equity(8 [AAPL]) -0.000065  1.014678\n",
       "2018-03-23 Equity(8 [AAPL]) -0.000001  1.019975"
      ]
     },
     "metadata": {},
     "output_type": "display_data"
    }
   ],
   "source": [
    "asset = asset_service.get_asset('AAPL')\n",
    "fdf = factor_service.get_market_factors(assets=[asset])\n",
    "display(fdf.tail(5))"
   ]
  },
  {
   "cell_type": "code",
   "execution_count": null,
   "metadata": {},
   "outputs": [],
   "source": []
  }
 ],
 "metadata": {
  "kernelspec": {
   "display_name": "Python 3",
   "language": "python",
   "name": "python3"
  },
  "language_info": {
   "codemirror_mode": {
    "name": "ipython",
    "version": 3
   },
   "file_extension": ".py",
   "mimetype": "text/x-python",
   "name": "python",
   "nbconvert_exporter": "python",
   "pygments_lexer": "ipython3",
   "version": "3.5.0"
  }
 },
 "nbformat": 4,
 "nbformat_minor": 1
}
